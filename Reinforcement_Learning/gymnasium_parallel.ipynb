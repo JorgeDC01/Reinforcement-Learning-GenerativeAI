{
 "cells": [
  {
   "cell_type": "markdown",
   "metadata": {},
   "source": [
    "## **LunarLander con Neuroevolución**\n",
    "Entrenamiento de una red neuronal mediante Computación Evolutiva. Se hace uso de un Algoritmo Genético Evolucional. Se evolucionan los pesos de la red. Un individuo tiene X cromosomas, cada uno de ellos representa un peso del modelo, con una arquitectura interna de capas [8,X,4].\n",
    "\n",
    "El fitness un agente es el refuerzo acumulativo de una partida LunarLander. Como el entorno es cambiante, para cada individuo se entrenan varios escenarios, y se toma como refuerzo el promedio. Es conveniente usar aplicar un multiarranque, aunque por ahora no se usa por el elevado tiempo de ejecución. "
   ]
  },
  {
   "cell_type": "code",
   "execution_count": 1,
   "metadata": {},
   "outputs": [
    {
     "name": "stdout",
     "output_type": "stream",
     "text": [
      "Nucleos: 8\n"
     ]
    }
   ],
   "source": [
    "import gymnasium as gym\n",
    "\n",
    "env = gym.make(\"LunarLander-v3\", render_mode=\"rgb_array\")\n",
    "\n",
    "import numpy as np\n",
    "import pygame\n",
    "import gymnasium.utils.play\n",
    "from MLP import MLP\n",
    "import random\n",
    "import loky\n",
    "from loky import get_reusable_executor\n",
    "import itertools\n",
    "import multiprocessing\n",
    "\n",
    "lunar_lander_keys = {\n",
    "    (pygame.K_UP,): 2,\n",
    "    (pygame.K_LEFT,): 1,\n",
    "    (pygame.K_RIGHT,): 3,\n",
    "}\n",
    "\n",
    "print(f\"Nucleos: {multiprocessing.cpu_count()}\")"
   ]
  },
  {
   "cell_type": "markdown",
   "metadata": {},
   "source": [
    "### Tareas\n",
    "1. Probar nuevas politicas\n",
    "2. Nuevos operadores: crossover, mutacion\n",
    "3. Cambio de arquitectura [8, X, 4]. 2,6,20\n",
    "4. Graficas: \n",
    "    - mejor fitness en funcion de generaciones\n",
    "    - fitness medio (de poblacion) en funcion de generaciones\n",
    "    - Precision (numero de aterrizajes correctos en cada iteracion) // hay que obtener \"algun indicativo de que aterrice bien\" "
   ]
  },
  {
   "cell_type": "markdown",
   "metadata": {},
   "source": [
    "**Políticas y run()**"
   ]
  },
  {
   "cell_type": "code",
   "execution_count": 18,
   "metadata": {},
   "outputs": [],
   "source": [
    "def policy_base (observation, model):\n",
    "    s = model.forward(observation)\n",
    "    action = np.argmax(s)\n",
    "    return action\n",
    "\n",
    "\n",
    "def policy_epsGreedy(observation, model):\n",
    "    epsilon = 0.10\n",
    "    s = model.forward(observation)\n",
    "    if np.random.rand() < epsilon:\n",
    "        action = np.random.randint(len(s))\n",
    "    else:\n",
    "        action = np.argmax(s)\n",
    "    return action\n",
    "\n",
    "\n",
    "def policy_softmax(observation, model, tau=1.0):\n",
    "    s = model.forward(observation)  # Paso 1: Obtener valores Q estimados\n",
    "    probabilities = np.exp(s / tau) / np.sum(np.exp(s / tau))  # Paso 2: Calcular las probabilidades\n",
    "    action = np.random.choice(len(s), p=probabilities)  # Paso 3: Elegir una acción basada en la distribución\n",
    "    return action\n",
    "\n",
    "\n",
    "def run (model):\n",
    "    # observation, info = env.reset(seed=42)\n",
    "    observation, info = env.reset()\n",
    "    ite = 0\n",
    "    racum = 0\n",
    "    while True:\n",
    "        action = policy_softmax(observation, model)\n",
    "        observation, reward, terminated, truncated, info = env.step(action)\n",
    "        \n",
    "        racum += reward\n",
    "\n",
    "        if terminated or truncated:\n",
    "            # r = (racum+200) / 500\n",
    "            # print(racum, r)\n",
    "            return racum\n",
    "\n",
    "\n",
    "def run_multiple_games(ch, arquitecture, N_games):\n",
    "\n",
    "    model = MLP(arquitecture)\n",
    "    model.from_chromosome(ch)\n",
    "\n",
    "    r = 0\n",
    "\n",
    "    for _ in range(N_games):\n",
    "        r += run(model)\n",
    "    \n",
    "    return r/N_games # devuelve el refuerzo medio"
   ]
  },
  {
   "cell_type": "markdown",
   "metadata": {},
   "source": [
    "**Mutate**"
   ]
  },
  {
   "cell_type": "code",
   "execution_count": 14,
   "metadata": {},
   "outputs": [],
   "source": [
    "def mutate(ind, pmut, rang):\n",
    "    if random.random() < pmut:\n",
    "        idx = random.randint(0, len(ind) - 1)\n",
    "        ind[idx] = random.uniform(rang[0], rang[1])\n",
    "    return ind.copy()\n",
    "\n",
    "\n",
    "def mutateAll(ind, pmut, rang):\n",
    "    if random.random() < pmut:\n",
    "        for i in range(len(ind)):\n",
    "            ind[i] = random.uniform(rang[0], rang[1])\n",
    "    return ind.copy()\n",
    "\n",
    "\n",
    "def mutate_gaussian(ind, pmut, mutation_power=0.002):\n",
    "    if random.random() < pmut:\n",
    "        for i in range(len(ind)):\n",
    "            # distribución normal\n",
    "            noise = np.random.normal(0, mutation_power)  # Media = 0, desviación estándar = mutation_power\n",
    "            ind[i] += noise\n",
    "        return ind.copy()\n",
    "    else:\n",
    "        return ind.copy()\n",
    "\n",
    "\n",
    "def mutate_gaussian_cromosoma(ind, pmut, mutation_power=0.2):\n",
    "    \n",
    "    for i in range(len(ind)):\n",
    "        if random.random() < pmut:\n",
    "            # distribución normal\n",
    "            noise = np.random.normal(0, mutation_power)  # Media = 0, desviación estándar = mutation_power\n",
    "            ind[i] += noise\n",
    "        return ind.copy()\n",
    "    else:\n",
    "        return ind.copy()\n",
    "\n",
    "\n",
    "def mutate_gaussian2(ind, pmut, rang):\n",
    "    if random.random() < pmut:\n",
    "        ind = [gen + random.uniform(-1, 1) for gen in ind]\n",
    "    return ind.copy()"
   ]
  },
  {
   "cell_type": "markdown",
   "metadata": {},
   "source": [
    "**Crossovers**"
   ]
  },
  {
   "cell_type": "code",
   "execution_count": 15,
   "metadata": {},
   "outputs": [],
   "source": [
    "def crossover_lineal (ind1, ind2, pcross, arquitecture): # devuelve el cruce (emparejamiento) de dos individuos, considerando todos los genes\n",
    "    if (random.random() > pcross):\n",
    "        return ind1.copy(), ind2.copy()\n",
    "    child1 = []\n",
    "    child2 = []\n",
    "\n",
    "    for gene1, gene2 in zip(ind1, ind2):\n",
    "        beta = random.uniform(0, 1)\n",
    "        c1 = beta * gene1 + (1 - beta) * gene2\n",
    "        c2 = (1 - beta) * gene1 + beta * gene2\n",
    "        \n",
    "        child1.append(c1)\n",
    "        child2.append(c2)\n",
    "    \n",
    "    return child1, child2\n",
    "    \n",
    "    \n",
    "def crossoverAlpha(parent1, parent2, pcross):\n",
    "    \"\"\"BLX-alpha crossover. Return two children\"\"\"\n",
    "    alpha = 0.5\n",
    "    if random.random() < pcross:\n",
    "        child1 = []\n",
    "        child2 = []\n",
    "        for gene1, gene2 in zip(parent1, parent2):\n",
    "            \n",
    "            x_min = min(gene1, gene2)\n",
    "            x_max = max(gene1, gene2)\n",
    "            I = x_max - x_min\n",
    "            \n",
    "            lower_bound = x_min - alpha * I\n",
    "            upper_bound = x_max + alpha * I\n",
    "            \n",
    "            c1 = random.uniform(lower_bound, upper_bound)\n",
    "            c2 = random.uniform(lower_bound, upper_bound)\n",
    "            child1.append(c1)\n",
    "            child2.append(c2)\n",
    "        return child1, child2\n",
    "    else:\n",
    "        return parent1, parent2"
   ]
  },
  {
   "cell_type": "code",
   "execution_count": 16,
   "metadata": {},
   "outputs": [],
   "source": [
    "rang = (-5, 5)\n",
    "createRang = (-5, 5)\n",
    "\n",
    "def select(pop, T, fitness_array): \n",
    "    tournament = random.sample(range(len(pop)), T)  \n",
    "    # Busca el índice del mejor individuo (mayor fitness porque es acumulativo en LunarLander)\n",
    "    best_index = max(tournament, key=lambda i: fitness_array[i])  \n",
    "    return pop[best_index].copy()  \n",
    "\n",
    "\n",
    "def create(createRang, arquitecture, N=100): \n",
    "    pop = []\n",
    "    \n",
    "    print(f\"--- Creacion de poblacion: Individuos = {100}, Rango = {createRang}\")\n",
    "\n",
    "    cromosoma_length = (arquitecture[0] * arquitecture[1]) + arquitecture[1] + (arquitecture[1] * arquitecture[2]) + arquitecture[2]\n",
    "\n",
    "    for _ in range(N):\n",
    "        values = [random.uniform(createRang[0], createRang[1]) for _ in range(cromosoma_length)]  \n",
    "        pop.append(values)\n",
    "\n",
    "    return pop\n",
    "\n",
    "\n",
    "def sort_pop (pop, fitness): \n",
    "\n",
    "    aux_pop = pop\n",
    "    aux_fitness = fitness\n",
    "\n",
    "    pop_with_fitness = [(indiv, fit) for indiv, fit in zip(aux_pop, aux_fitness)]\n",
    "    sorted_pop = sorted(pop_with_fitness, key=lambda x: x[1], reverse=True)  # Mayor fitness primero\n",
    "    return [indiv for indiv, _ in sorted_pop], [fit for _, fit in sorted_pop]\n",
    "\n",
    "    \n",
    "\n",
    "\n",
    "def evolve_gen(pop, rangMut, pmut,  arquitecture = [8,6,4], generations = 6000, T=2, trace=100, pcross=0.7, elitism=False, N_games=2, n_elitism=0):\n",
    "    \n",
    "    print(f\"Parámetros: pmut = {pmut}, Rango de Mutacion = {rangMut}, arquitecture = {arquitecture}, generations = {generations}, T = {T}, pcross = {pcross}, elitism = {elitism}, N_games = {N_games}, n_elitism = {n_elitism}\")\n",
    "    \n",
    "    max_fitness_perGeneration = []\n",
    "    mean_fitness_perGeneration = []\n",
    "    min_fitness_perGeneration = []\n",
    "\n",
    "    generation = 0\n",
    "    executor = get_reusable_executor()\n",
    "\n",
    "    \n",
    "    while generation < generations:\n",
    "        new_poblacion = []\n",
    "\n",
    "        fitness_array = list(executor.map(run_multiple_games, pop, itertools.repeat(arquitecture), itertools.repeat(N_games)))\n",
    "        generation += 1\n",
    "\n",
    "        pop, fitness = sort_pop(pop, fitness_array)\n",
    "     \n",
    "\n",
    "        max_fitness_perGeneration.append(fitness[0])\n",
    "        mean_fitness_perGeneration.append(np.array(fitness).mean())\n",
    "        min_fitness_perGeneration.append(fitness[-1])\n",
    "\n",
    "        if trace > 0 and generation % trace == 0:\n",
    "            print(f\"Generacion: {generation}, Mejor fitness: {fitness[0]}\")\n",
    "            \n",
    "        if generation >= generations:\n",
    "            break\n",
    "\n",
    "        if elitism:\n",
    "            #new_poblacion.append(pop[0].copy())\n",
    "            new_poblacion.extend([ind.copy() for ind in pop[:n_elitism]])\n",
    "\n",
    "        while len(new_poblacion) < len(pop):\n",
    "            parent_1 = select(pop, T, fitness)\n",
    "            parent_2 = select(pop, T, fitness)\n",
    "\n",
    "            child_1, child_2 = crossover_lineal(parent_1, parent_2, pcross, arquitecture)\n",
    "\n",
    "            m1 = mutate_gaussian(child_1, pmut)\n",
    "            m2 = mutate_gaussian(child_2, pmut)\n",
    "\n",
    "            new_poblacion.extend([m1, m2])\n",
    "\n",
    "        pop = new_poblacion[:len(pop)].copy()\n",
    "\n",
    "    print(f\"Generacion: {generation}, Mejor fitness: {fitness[0]}\")\n",
    "    \n",
    "    return pop, fitness, max_fitness_perGeneration, mean_fitness_perGeneration, min_fitness_perGeneration\n"
   ]
  },
  {
   "cell_type": "code",
   "execution_count": 17,
   "metadata": {},
   "outputs": [
    {
     "name": "stdout",
     "output_type": "stream",
     "text": [
      "Ejecución 1\n",
      "Politica: eps_greedy con 0.2\n",
      "--- Creacion de poblacion: Individuos = 100, Rango = (-5, 5)\n",
      "Parámetros: pmut = 0.1, Rango de Mutacion = (-5, 5), arquitecture = [8, 6, 4], generations = 400, T = 4, pcross = 0.7, elitism = False, N_games = 2, n_elitism = 0\n"
     ]
    },
    {
     "ename": "KeyboardInterrupt",
     "evalue": "",
     "output_type": "error",
     "traceback": [
      "\u001b[1;31m---------------------------------------------------------------------------\u001b[0m",
      "\u001b[1;31mKeyboardInterrupt\u001b[0m                         Traceback (most recent call last)",
      "Cell \u001b[1;32mIn[17], line 12\u001b[0m\n\u001b[0;32m      8\u001b[0m createRang \u001b[38;5;241m=\u001b[39m (\u001b[38;5;241m-\u001b[39m\u001b[38;5;241m5\u001b[39m, \u001b[38;5;241m5\u001b[39m)\n\u001b[0;32m     10\u001b[0m pop \u001b[38;5;241m=\u001b[39m create(createRang, arquitecture\u001b[38;5;241m=\u001b[39m[\u001b[38;5;241m8\u001b[39m,\u001b[38;5;241m6\u001b[39m,\u001b[38;5;241m4\u001b[39m]) \n\u001b[1;32m---> 12\u001b[0m pop, fitness, f_max, f_min, f_mean \u001b[38;5;241m=\u001b[39m evolve_gen(pop, rangMutacion, pmut\u001b[38;5;241m=\u001b[39m\u001b[38;5;241m0.1\u001b[39m, arquitecture\u001b[38;5;241m=\u001b[39m[\u001b[38;5;241m8\u001b[39m,\u001b[38;5;241m6\u001b[39m,\u001b[38;5;241m4\u001b[39m], generations\u001b[38;5;241m=\u001b[39m\u001b[38;5;241m400\u001b[39m, T\u001b[38;5;241m=\u001b[39m\u001b[38;5;241m4\u001b[39m, trace\u001b[38;5;241m=\u001b[39m\u001b[38;5;241m50\u001b[39m, pcross\u001b[38;5;241m=\u001b[39m\u001b[38;5;241m0.7\u001b[39m, elitism\u001b[38;5;241m=\u001b[39m\u001b[38;5;28;01mFalse\u001b[39;00m, N_games\u001b[38;5;241m=\u001b[39m\u001b[38;5;241m2\u001b[39m)\n\u001b[0;32m     15\u001b[0m best_individual \u001b[38;5;241m=\u001b[39m pop[\u001b[38;5;241m0\u001b[39m]  \n\u001b[0;32m     16\u001b[0m fitness_value \u001b[38;5;241m=\u001b[39m fitness[\u001b[38;5;241m0\u001b[39m]\n",
      "Cell \u001b[1;32mIn[16], line 52\u001b[0m, in \u001b[0;36mevolve_gen\u001b[1;34m(pop, rangMut, pmut, arquitecture, generations, T, trace, pcross, elitism, N_games, n_elitism)\u001b[0m\n\u001b[0;32m     49\u001b[0m \u001b[38;5;28;01mwhile\u001b[39;00m generation \u001b[38;5;241m<\u001b[39m generations:\n\u001b[0;32m     50\u001b[0m     new_poblacion \u001b[38;5;241m=\u001b[39m []\n\u001b[1;32m---> 52\u001b[0m     fitness_array \u001b[38;5;241m=\u001b[39m \u001b[38;5;28mlist\u001b[39m(executor\u001b[38;5;241m.\u001b[39mmap(run_multiple_games, pop, itertools\u001b[38;5;241m.\u001b[39mrepeat(arquitecture), itertools\u001b[38;5;241m.\u001b[39mrepeat(N_games)))\n\u001b[0;32m     53\u001b[0m     generation \u001b[38;5;241m+\u001b[39m\u001b[38;5;241m=\u001b[39m \u001b[38;5;241m1\u001b[39m\n\u001b[0;32m     55\u001b[0m     pop, fitness \u001b[38;5;241m=\u001b[39m sort_pop(pop, fitness_array)\n",
      "File \u001b[1;32mc:\\Users\\34627\\anaconda3\\Lib\\site-packages\\loky\\process_executor.py:967\u001b[0m, in \u001b[0;36m_chain_from_iterable_of_lists\u001b[1;34m(iterable)\u001b[0m\n\u001b[0;32m    961\u001b[0m \u001b[38;5;28;01mdef\u001b[39;00m \u001b[38;5;21m_chain_from_iterable_of_lists\u001b[39m(iterable):\n\u001b[0;32m    962\u001b[0m \u001b[38;5;250m    \u001b[39m\u001b[38;5;124;03m\"\"\"\u001b[39;00m\n\u001b[0;32m    963\u001b[0m \u001b[38;5;124;03m    Specialized implementation of itertools.chain.from_iterable.\u001b[39;00m\n\u001b[0;32m    964\u001b[0m \u001b[38;5;124;03m    Each item in *iterable* should be a list.  This function is\u001b[39;00m\n\u001b[0;32m    965\u001b[0m \u001b[38;5;124;03m    careful not to keep references to yielded objects.\u001b[39;00m\n\u001b[0;32m    966\u001b[0m \u001b[38;5;124;03m    \"\"\"\u001b[39;00m\n\u001b[1;32m--> 967\u001b[0m     \u001b[38;5;28;01mfor\u001b[39;00m element \u001b[38;5;129;01min\u001b[39;00m iterable:\n\u001b[0;32m    968\u001b[0m         element\u001b[38;5;241m.\u001b[39mreverse()\n\u001b[0;32m    969\u001b[0m         \u001b[38;5;28;01mwhile\u001b[39;00m element:\n",
      "File \u001b[1;32mc:\\Users\\34627\\anaconda3\\Lib\\concurrent\\futures\\_base.py:619\u001b[0m, in \u001b[0;36mExecutor.map.<locals>.result_iterator\u001b[1;34m()\u001b[0m\n\u001b[0;32m    616\u001b[0m \u001b[38;5;28;01mwhile\u001b[39;00m fs:\n\u001b[0;32m    617\u001b[0m     \u001b[38;5;66;03m# Careful not to keep a reference to the popped future\u001b[39;00m\n\u001b[0;32m    618\u001b[0m     \u001b[38;5;28;01mif\u001b[39;00m timeout \u001b[38;5;129;01mis\u001b[39;00m \u001b[38;5;28;01mNone\u001b[39;00m:\n\u001b[1;32m--> 619\u001b[0m         \u001b[38;5;28;01myield\u001b[39;00m _result_or_cancel(fs\u001b[38;5;241m.\u001b[39mpop())\n\u001b[0;32m    620\u001b[0m     \u001b[38;5;28;01melse\u001b[39;00m:\n\u001b[0;32m    621\u001b[0m         \u001b[38;5;28;01myield\u001b[39;00m _result_or_cancel(fs\u001b[38;5;241m.\u001b[39mpop(), end_time \u001b[38;5;241m-\u001b[39m time\u001b[38;5;241m.\u001b[39mmonotonic())\n",
      "File \u001b[1;32mc:\\Users\\34627\\anaconda3\\Lib\\concurrent\\futures\\_base.py:317\u001b[0m, in \u001b[0;36m_result_or_cancel\u001b[1;34m(***failed resolving arguments***)\u001b[0m\n\u001b[0;32m    315\u001b[0m \u001b[38;5;28;01mtry\u001b[39;00m:\n\u001b[0;32m    316\u001b[0m     \u001b[38;5;28;01mtry\u001b[39;00m:\n\u001b[1;32m--> 317\u001b[0m         \u001b[38;5;28;01mreturn\u001b[39;00m fut\u001b[38;5;241m.\u001b[39mresult(timeout)\n\u001b[0;32m    318\u001b[0m     \u001b[38;5;28;01mfinally\u001b[39;00m:\n\u001b[0;32m    319\u001b[0m         fut\u001b[38;5;241m.\u001b[39mcancel()\n",
      "File \u001b[1;32mc:\\Users\\34627\\anaconda3\\Lib\\concurrent\\futures\\_base.py:451\u001b[0m, in \u001b[0;36mFuture.result\u001b[1;34m(self, timeout)\u001b[0m\n\u001b[0;32m    448\u001b[0m \u001b[38;5;28;01melif\u001b[39;00m \u001b[38;5;28mself\u001b[39m\u001b[38;5;241m.\u001b[39m_state \u001b[38;5;241m==\u001b[39m FINISHED:\n\u001b[0;32m    449\u001b[0m     \u001b[38;5;28;01mreturn\u001b[39;00m \u001b[38;5;28mself\u001b[39m\u001b[38;5;241m.\u001b[39m__get_result()\n\u001b[1;32m--> 451\u001b[0m \u001b[38;5;28mself\u001b[39m\u001b[38;5;241m.\u001b[39m_condition\u001b[38;5;241m.\u001b[39mwait(timeout)\n\u001b[0;32m    453\u001b[0m \u001b[38;5;28;01mif\u001b[39;00m \u001b[38;5;28mself\u001b[39m\u001b[38;5;241m.\u001b[39m_state \u001b[38;5;129;01min\u001b[39;00m [CANCELLED, CANCELLED_AND_NOTIFIED]:\n\u001b[0;32m    454\u001b[0m     \u001b[38;5;28;01mraise\u001b[39;00m CancelledError()\n",
      "File \u001b[1;32mc:\\Users\\34627\\anaconda3\\Lib\\threading.py:355\u001b[0m, in \u001b[0;36mCondition.wait\u001b[1;34m(self, timeout)\u001b[0m\n\u001b[0;32m    353\u001b[0m \u001b[38;5;28;01mtry\u001b[39;00m:    \u001b[38;5;66;03m# restore state no matter what (e.g., KeyboardInterrupt)\u001b[39;00m\n\u001b[0;32m    354\u001b[0m     \u001b[38;5;28;01mif\u001b[39;00m timeout \u001b[38;5;129;01mis\u001b[39;00m \u001b[38;5;28;01mNone\u001b[39;00m:\n\u001b[1;32m--> 355\u001b[0m         waiter\u001b[38;5;241m.\u001b[39macquire()\n\u001b[0;32m    356\u001b[0m         gotit \u001b[38;5;241m=\u001b[39m \u001b[38;5;28;01mTrue\u001b[39;00m\n\u001b[0;32m    357\u001b[0m     \u001b[38;5;28;01melse\u001b[39;00m:\n",
      "\u001b[1;31mKeyboardInterrupt\u001b[0m: "
     ]
    }
   ],
   "source": [
    "best_individuals = []\n",
    "fitness_values = []\n",
    "\n",
    "for i in range(1,2):\n",
    "    print(f\"Ejecución {i}\")\n",
    "    print(\"Politica: eps_greedy con 0.2\")\n",
    "    rangMutacion = (-5, 5)\n",
    "    createRang = (-5, 5)\n",
    "\n",
    "    pop = create(createRang, arquitecture=[8,6,4]) \n",
    "\n",
    "    pop, fitness, f_max, f_min, f_mean = evolve_gen(pop, rangMutacion, pmut=0.1, arquitecture=[8,6,4], generations=400, T=4, trace=50, pcross=0.7, elitism=False, N_games=2)\n",
    "    \n",
    "    \n",
    "    best_individual = pop[0]  \n",
    "    fitness_value = fitness[0]\n",
    "\n",
    "    # Almacenar resultados\n",
    "    best_individuals.append(best_individual)\n",
    "    fitness_values.append(fitness_value)"
   ]
  },
  {
   "cell_type": "markdown",
   "metadata": {},
   "source": [
    "> *Rango de mutacion (-5,5) , aplicando la probabilidad individualmente a cada cromosoma devuelve mal resultado* "
   ]
  },
  {
   "cell_type": "code",
   "execution_count": null,
   "metadata": {},
   "outputs": [
    {
     "name": "stdout",
     "output_type": "stream",
     "text": [
      "Ejecución 1\n",
      "Politica: eps_greedy con 0.1\n",
      "--- Creacion de poblacion: Individuos = 100, Rango = (-5, 5)\n",
      "Parámetros: pmut = 0.1, Rango de Mutacion = (-1, 1), arquitecture = [8, 6, 4], generations = 400, T = 8, pcross = 0.7, elitism = False, N_games = 2\n",
      "Generacion: 50, Mejor fitness: -8.602792415994756\n",
      "Generacion: 100, Mejor fitness: -7.091135872194307\n",
      "Generacion: 150, Mejor fitness: 6.343020978289843\n",
      "Generacion: 200, Mejor fitness: 31.62166068345369\n",
      "Generacion: 250, Mejor fitness: -15.135895750204451\n",
      "Generacion: 300, Mejor fitness: 21.284227267986182\n",
      "Generacion: 350, Mejor fitness: -8.383864553053343\n"
     ]
    },
    {
     "name": "stderr",
     "output_type": "stream",
     "text": [
      "c:\\Users\\34627\\anaconda3\\Lib\\site-packages\\loky\\process_executor.py:752: UserWarning: A worker stopped while some jobs were given to the executor. This can be caused by a too short worker timeout or by a memory leak.\n",
      "  warnings.warn(\n"
     ]
    },
    {
     "name": "stdout",
     "output_type": "stream",
     "text": [
      "Generacion: 400, Mejor fitness: 0.38977283359117365\n",
      "Generacion: 400, Mejor fitness: 0.38977283359117365\n"
     ]
    }
   ],
   "source": [
    "best_individuals = []\n",
    "fitness_values = []\n",
    "\n",
    "for i in range(1,2):\n",
    "    print(f\"Ejecución {i}\")\n",
    "    print(\"Politica: eps_greedy con 0.1\")\n",
    "    rangMutacion = (-1, 1)\n",
    "    createRang = (-5, 5)\n",
    "\n",
    "    pop = create(createRang, arquitecture=[8,6,4]) \n",
    "\n",
    "    pop, fitness, f_max, f_min, f_mean = evolve_gen(pop, rangMutacion, pmut=0.1, arquitecture=[8,6,4], generations=400, T=8, trace=50, pcross=0.7, elitism=False, N_games=2)\n",
    "    \n",
    "    \n",
    "    best_individual = pop[0]  \n",
    "    fitness_value = fitness[0]\n",
    "\n",
    "    # Almacenar resultados\n",
    "    best_individuals.append(best_individual)\n",
    "    fitness_values.append(fitness_value)"
   ]
  },
  {
   "cell_type": "markdown",
   "metadata": {},
   "source": [
    "> *Rango de mutacion (-1,1) aplicando probabilidad individualmente a cada cromosoma devuelve mal resultado, per mejora los resultados respecto el rango (-5,5)* "
   ]
  },
  {
   "cell_type": "code",
   "execution_count": null,
   "metadata": {},
   "outputs": [
    {
     "name": "stdout",
     "output_type": "stream",
     "text": [
      "Ejecución 1\n",
      "Politica: eps_greedy con 0.1. mutate gaussiano 1\n",
      "--- Creacion de poblacion: Individuos = 100, Rango = (-5, 5)\n",
      "Parámetros: pmut = 0.1, Rango de Mutacion = (-1, 1), arquitecture = [8, 6, 4], generations = 1000, T = 8, pcross = 0.7, elitism = True, N_games = 3, n_elitism = 5\n",
      "Generacion: 50, Mejor fitness: 35.44676429606502\n",
      "Generacion: 100, Mejor fitness: 31.96727883700095\n",
      "Generacion: 150, Mejor fitness: 77.67674347371837\n",
      "Generacion: 200, Mejor fitness: 149.68569329361395\n",
      "Generacion: 250, Mejor fitness: 163.4644302568507\n",
      "Generacion: 300, Mejor fitness: 153.92880372849655\n",
      "Generacion: 350, Mejor fitness: 153.56635495328422\n",
      "Generacion: 400, Mejor fitness: 173.11246056759626\n",
      "Generacion: 450, Mejor fitness: 162.0995254050241\n",
      "Generacion: 500, Mejor fitness: 156.9085126690114\n",
      "Generacion: 550, Mejor fitness: 270.31772645258417\n",
      "Generacion: 600, Mejor fitness: 162.19891105723715\n",
      "Generacion: 650, Mejor fitness: 251.40935427932422\n",
      "Generacion: 700, Mejor fitness: 179.27604003020147\n",
      "Generacion: 750, Mejor fitness: 184.87217010812893\n",
      "Generacion: 800, Mejor fitness: 233.75705673733094\n",
      "Generacion: 850, Mejor fitness: 177.8339605004253\n",
      "Generacion: 900, Mejor fitness: 155.8677746527529\n",
      "Generacion: 950, Mejor fitness: 184.99012366690792\n",
      "Generacion: 1000, Mejor fitness: 237.89462299242223\n",
      "Generacion: 1000, Mejor fitness: 237.89462299242223\n"
     ]
    }
   ],
   "source": [
    "best_individuals = []\n",
    "fitness_values = []\n",
    "\n",
    "for i in range(1,2):\n",
    "    print(f\"Ejecución {i}\")\n",
    "    print(\"Politica: eps_greedy con 0.1. mutate gaussiano 1 con un 0.2\")\n",
    "    rangMutacion = (-1, 1)\n",
    "    createRang = (-5, 5)\n",
    "\n",
    "    pop = create(createRang, arquitecture=[8,6,4]) \n",
    "\n",
    "    pop, fitness, f_max, f_min, f_mean = evolve_gen(pop, rangMutacion, pmut=0.1, arquitecture=[8,6,4], generations=1000, T=8, trace=50, pcross=0.7, elitism=True, N_games=3, n_elitism=5)\n",
    "    \n",
    "    \n",
    "    best_individual = pop[0]  \n",
    "    fitness_value = fitness[0]\n",
    "\n",
    "    # Almacenar resultados\n",
    "    best_individuals.append(best_individual)\n",
    "    fitness_values.append(fitness_value)"
   ]
  },
  {
   "cell_type": "markdown",
   "metadata": {},
   "source": [
    "> *La mutacion gaussiana con 0.2 mejora mucho los resultados. El elitismo mejora bastante los resultados.* "
   ]
  },
  {
   "cell_type": "code",
   "execution_count": null,
   "metadata": {},
   "outputs": [
    {
     "name": "stdout",
     "output_type": "stream",
     "text": [
      "Ejecución 1\n",
      "Politica: eps_greedy con 0.1. mutate gaussiano 1 con un 0.11\n",
      "--- Creacion de poblacion: Individuos = 100, Rango = (-5, 5)\n",
      "Parámetros: pmut = 0.1, Rango de Mutacion = (-1, 1), arquitecture = [8, 6, 4], generations = 600, T = 8, pcross = 0.7, elitism = True, N_games = 3, n_elitism = 5\n",
      "Generacion: 50, Mejor fitness: -47.019349209845224\n",
      "Generacion: 100, Mejor fitness: -31.44903386529936\n",
      "Generacion: 150, Mejor fitness: 1.7223346463012301\n",
      "Generacion: 200, Mejor fitness: -17.49754473433568\n",
      "Generacion: 250, Mejor fitness: -16.688389778283508\n",
      "Generacion: 300, Mejor fitness: -16.172501376144115\n",
      "Generacion: 350, Mejor fitness: 45.83633067604154\n",
      "Generacion: 400, Mejor fitness: 6.023375262081558\n",
      "Generacion: 450, Mejor fitness: 76.54928362882212\n",
      "Generacion: 500, Mejor fitness: -8.24912612071057\n"
     ]
    },
    {
     "ename": "KeyboardInterrupt",
     "evalue": "",
     "output_type": "error",
     "traceback": [
      "\u001b[1;31m---------------------------------------------------------------------------\u001b[0m",
      "\u001b[1;31mKeyboardInterrupt\u001b[0m                         Traceback (most recent call last)",
      "Cell \u001b[1;32mIn[25], line 12\u001b[0m\n\u001b[0;32m      8\u001b[0m createRang \u001b[38;5;241m=\u001b[39m (\u001b[38;5;241m-\u001b[39m\u001b[38;5;241m5\u001b[39m, \u001b[38;5;241m5\u001b[39m)\n\u001b[0;32m     10\u001b[0m pop \u001b[38;5;241m=\u001b[39m create(createRang, arquitecture\u001b[38;5;241m=\u001b[39m[\u001b[38;5;241m8\u001b[39m,\u001b[38;5;241m6\u001b[39m,\u001b[38;5;241m4\u001b[39m]) \n\u001b[1;32m---> 12\u001b[0m pop, fitness, f_max, f_min, f_mean \u001b[38;5;241m=\u001b[39m evolve_gen(pop, rangMutacion, pmut\u001b[38;5;241m=\u001b[39m\u001b[38;5;241m0.1\u001b[39m, arquitecture\u001b[38;5;241m=\u001b[39m[\u001b[38;5;241m8\u001b[39m,\u001b[38;5;241m6\u001b[39m,\u001b[38;5;241m4\u001b[39m], generations\u001b[38;5;241m=\u001b[39m\u001b[38;5;241m600\u001b[39m, T\u001b[38;5;241m=\u001b[39m\u001b[38;5;241m8\u001b[39m, trace\u001b[38;5;241m=\u001b[39m\u001b[38;5;241m50\u001b[39m, pcross\u001b[38;5;241m=\u001b[39m\u001b[38;5;241m0.7\u001b[39m, elitism\u001b[38;5;241m=\u001b[39m\u001b[38;5;28;01mTrue\u001b[39;00m, N_games\u001b[38;5;241m=\u001b[39m\u001b[38;5;241m3\u001b[39m, n_elitism\u001b[38;5;241m=\u001b[39m\u001b[38;5;241m5\u001b[39m)\n\u001b[0;32m     15\u001b[0m best_individual \u001b[38;5;241m=\u001b[39m pop[\u001b[38;5;241m0\u001b[39m]  \n\u001b[0;32m     16\u001b[0m fitness_value \u001b[38;5;241m=\u001b[39m fitness[\u001b[38;5;241m0\u001b[39m]\n",
      "Cell \u001b[1;32mIn[16], line 52\u001b[0m, in \u001b[0;36mevolve_gen\u001b[1;34m(pop, rangMut, pmut, arquitecture, generations, T, trace, pcross, elitism, N_games, n_elitism)\u001b[0m\n\u001b[0;32m     49\u001b[0m \u001b[38;5;28;01mwhile\u001b[39;00m generation \u001b[38;5;241m<\u001b[39m generations:\n\u001b[0;32m     50\u001b[0m     new_poblacion \u001b[38;5;241m=\u001b[39m []\n\u001b[1;32m---> 52\u001b[0m     fitness_array \u001b[38;5;241m=\u001b[39m \u001b[38;5;28mlist\u001b[39m(executor\u001b[38;5;241m.\u001b[39mmap(run_multiple_games, pop, itertools\u001b[38;5;241m.\u001b[39mrepeat(arquitecture), itertools\u001b[38;5;241m.\u001b[39mrepeat(N_games)))\n\u001b[0;32m     53\u001b[0m     generation \u001b[38;5;241m+\u001b[39m\u001b[38;5;241m=\u001b[39m \u001b[38;5;241m1\u001b[39m\n\u001b[0;32m     55\u001b[0m     pop, fitness \u001b[38;5;241m=\u001b[39m sort_pop(pop, fitness_array)\n",
      "File \u001b[1;32mc:\\Users\\34627\\anaconda3\\Lib\\site-packages\\loky\\process_executor.py:967\u001b[0m, in \u001b[0;36m_chain_from_iterable_of_lists\u001b[1;34m(iterable)\u001b[0m\n\u001b[0;32m    961\u001b[0m \u001b[38;5;28;01mdef\u001b[39;00m \u001b[38;5;21m_chain_from_iterable_of_lists\u001b[39m(iterable):\n\u001b[0;32m    962\u001b[0m \u001b[38;5;250m    \u001b[39m\u001b[38;5;124;03m\"\"\"\u001b[39;00m\n\u001b[0;32m    963\u001b[0m \u001b[38;5;124;03m    Specialized implementation of itertools.chain.from_iterable.\u001b[39;00m\n\u001b[0;32m    964\u001b[0m \u001b[38;5;124;03m    Each item in *iterable* should be a list.  This function is\u001b[39;00m\n\u001b[0;32m    965\u001b[0m \u001b[38;5;124;03m    careful not to keep references to yielded objects.\u001b[39;00m\n\u001b[0;32m    966\u001b[0m \u001b[38;5;124;03m    \"\"\"\u001b[39;00m\n\u001b[1;32m--> 967\u001b[0m     \u001b[38;5;28;01mfor\u001b[39;00m element \u001b[38;5;129;01min\u001b[39;00m iterable:\n\u001b[0;32m    968\u001b[0m         element\u001b[38;5;241m.\u001b[39mreverse()\n\u001b[0;32m    969\u001b[0m         \u001b[38;5;28;01mwhile\u001b[39;00m element:\n",
      "File \u001b[1;32mc:\\Users\\34627\\anaconda3\\Lib\\concurrent\\futures\\_base.py:619\u001b[0m, in \u001b[0;36mExecutor.map.<locals>.result_iterator\u001b[1;34m()\u001b[0m\n\u001b[0;32m    616\u001b[0m \u001b[38;5;28;01mwhile\u001b[39;00m fs:\n\u001b[0;32m    617\u001b[0m     \u001b[38;5;66;03m# Careful not to keep a reference to the popped future\u001b[39;00m\n\u001b[0;32m    618\u001b[0m     \u001b[38;5;28;01mif\u001b[39;00m timeout \u001b[38;5;129;01mis\u001b[39;00m \u001b[38;5;28;01mNone\u001b[39;00m:\n\u001b[1;32m--> 619\u001b[0m         \u001b[38;5;28;01myield\u001b[39;00m _result_or_cancel(fs\u001b[38;5;241m.\u001b[39mpop())\n\u001b[0;32m    620\u001b[0m     \u001b[38;5;28;01melse\u001b[39;00m:\n\u001b[0;32m    621\u001b[0m         \u001b[38;5;28;01myield\u001b[39;00m _result_or_cancel(fs\u001b[38;5;241m.\u001b[39mpop(), end_time \u001b[38;5;241m-\u001b[39m time\u001b[38;5;241m.\u001b[39mmonotonic())\n",
      "File \u001b[1;32mc:\\Users\\34627\\anaconda3\\Lib\\concurrent\\futures\\_base.py:317\u001b[0m, in \u001b[0;36m_result_or_cancel\u001b[1;34m(***failed resolving arguments***)\u001b[0m\n\u001b[0;32m    315\u001b[0m \u001b[38;5;28;01mtry\u001b[39;00m:\n\u001b[0;32m    316\u001b[0m     \u001b[38;5;28;01mtry\u001b[39;00m:\n\u001b[1;32m--> 317\u001b[0m         \u001b[38;5;28;01mreturn\u001b[39;00m fut\u001b[38;5;241m.\u001b[39mresult(timeout)\n\u001b[0;32m    318\u001b[0m     \u001b[38;5;28;01mfinally\u001b[39;00m:\n\u001b[0;32m    319\u001b[0m         fut\u001b[38;5;241m.\u001b[39mcancel()\n",
      "File \u001b[1;32mc:\\Users\\34627\\anaconda3\\Lib\\concurrent\\futures\\_base.py:451\u001b[0m, in \u001b[0;36mFuture.result\u001b[1;34m(self, timeout)\u001b[0m\n\u001b[0;32m    448\u001b[0m \u001b[38;5;28;01melif\u001b[39;00m \u001b[38;5;28mself\u001b[39m\u001b[38;5;241m.\u001b[39m_state \u001b[38;5;241m==\u001b[39m FINISHED:\n\u001b[0;32m    449\u001b[0m     \u001b[38;5;28;01mreturn\u001b[39;00m \u001b[38;5;28mself\u001b[39m\u001b[38;5;241m.\u001b[39m__get_result()\n\u001b[1;32m--> 451\u001b[0m \u001b[38;5;28mself\u001b[39m\u001b[38;5;241m.\u001b[39m_condition\u001b[38;5;241m.\u001b[39mwait(timeout)\n\u001b[0;32m    453\u001b[0m \u001b[38;5;28;01mif\u001b[39;00m \u001b[38;5;28mself\u001b[39m\u001b[38;5;241m.\u001b[39m_state \u001b[38;5;129;01min\u001b[39;00m [CANCELLED, CANCELLED_AND_NOTIFIED]:\n\u001b[0;32m    454\u001b[0m     \u001b[38;5;28;01mraise\u001b[39;00m CancelledError()\n",
      "File \u001b[1;32mc:\\Users\\34627\\anaconda3\\Lib\\threading.py:355\u001b[0m, in \u001b[0;36mCondition.wait\u001b[1;34m(self, timeout)\u001b[0m\n\u001b[0;32m    353\u001b[0m \u001b[38;5;28;01mtry\u001b[39;00m:    \u001b[38;5;66;03m# restore state no matter what (e.g., KeyboardInterrupt)\u001b[39;00m\n\u001b[0;32m    354\u001b[0m     \u001b[38;5;28;01mif\u001b[39;00m timeout \u001b[38;5;129;01mis\u001b[39;00m \u001b[38;5;28;01mNone\u001b[39;00m:\n\u001b[1;32m--> 355\u001b[0m         waiter\u001b[38;5;241m.\u001b[39macquire()\n\u001b[0;32m    356\u001b[0m         gotit \u001b[38;5;241m=\u001b[39m \u001b[38;5;28;01mTrue\u001b[39;00m\n\u001b[0;32m    357\u001b[0m     \u001b[38;5;28;01melse\u001b[39;00m:\n",
      "\u001b[1;31mKeyboardInterrupt\u001b[0m: "
     ]
    }
   ],
   "source": [
    "best_individuals = []\n",
    "fitness_values = []\n",
    "\n",
    "for i in range(1,2):\n",
    "    print(f\"Ejecución {i}\")\n",
    "    print(\"Politica: eps_greedy con 0.1. mutate gaussiano 1 con un 0.11\")\n",
    "    rangMutacion = (-1, 1)\n",
    "    createRang = (-5, 5)\n",
    "\n",
    "    pop = create(createRang, arquitecture=[8,6,4]) \n",
    "\n",
    "    pop, fitness, f_max, f_min, f_mean = evolve_gen(pop, rangMutacion, pmut=0.1, arquitecture=[8,6,4], generations=600, T=8, trace=50, pcross=0.7, elitism=True, N_games=3, n_elitism=5)\n",
    "    \n",
    "    \n",
    "    best_individual = pop[0]  \n",
    "    fitness_value = fitness[0]\n",
    "\n",
    "    # Almacenar resultados\n",
    "    best_individuals.append(best_individual)\n",
    "    fitness_values.append(fitness_value)"
   ]
  },
  {
   "cell_type": "markdown",
   "metadata": {},
   "source": [
    "> *Con 0.11 devuelve mal resultado, peor que con 0.2* "
   ]
  },
  {
   "cell_type": "code",
   "execution_count": null,
   "metadata": {},
   "outputs": [
    {
     "name": "stdout",
     "output_type": "stream",
     "text": [
      "Ejecución 1\n",
      "Politica: eps_greedy con 0.1. mutate gaussiano 1 que solo aplica a un cromosoma con un 0.2 \n",
      "--- Creacion de poblacion: Individuos = 100, Rango = (-5, 5)\n",
      "Parámetros: pmut = 0.1, Rango de Mutacion = (-1, 1), arquitecture = [8, 6, 4], generations = 600, T = 8, pcross = 0.7, elitism = True, N_games = 3, n_elitism = 5\n",
      "Generacion: 50, Mejor fitness: -7.420641077052451\n",
      "Generacion: 100, Mejor fitness: 1.1828041400962992\n",
      "Generacion: 150, Mejor fitness: 15.386187587163642\n",
      "Generacion: 200, Mejor fitness: -4.894865592410525\n",
      "Generacion: 250, Mejor fitness: 15.284771009336135\n",
      "Generacion: 300, Mejor fitness: -11.964340333538182\n",
      "Generacion: 350, Mejor fitness: 16.19611911124308\n",
      "Generacion: 400, Mejor fitness: -2.324722481069358\n",
      "Generacion: 450, Mejor fitness: 50.4547973002848\n",
      "Generacion: 500, Mejor fitness: 58.669649824389204\n",
      "Generacion: 550, Mejor fitness: 59.34246596451643\n",
      "Generacion: 600, Mejor fitness: 0.2734003816292301\n",
      "Generacion: 600, Mejor fitness: 0.2734003816292301\n"
     ]
    }
   ],
   "source": [
    "# lo mejor de las dos pruebas previas pero con un mutate que no aplique a todo el individuo con todos sus cromosomas, solo uno\n",
    "best_individuals = []\n",
    "fitness_values = []\n",
    "\n",
    "for i in range(1,2):\n",
    "    print(f\"Ejecución {i}\")\n",
    "    print(\"Politica: eps_greedy con 0.1. mutate gaussiano 1 que solo aplica a un cromosoma con un 0.2 \")\n",
    "    rangMutacion = (-1, 1)\n",
    "    createRang = (-5, 5)\n",
    "\n",
    "    pop = create(createRang, arquitecture=[8,6,4]) \n",
    "\n",
    "    pop, fitness, f_max, f_min, f_mean = evolve_gen(pop, rangMutacion, pmut=0.1, arquitecture=[8,6,4], generations=600, T=8, trace=50, pcross=0.7, elitism=True, N_games=3, n_elitism=5)\n",
    "    \n",
    "    \n",
    "    best_individual = pop[0]  \n",
    "    fitness_value = fitness[0]\n",
    "\n",
    "    # Almacenar resultados\n",
    "    best_individuals.append(best_individual)\n",
    "    fitness_values.append(fitness_value)"
   ]
  },
  {
   "cell_type": "code",
   "execution_count": null,
   "metadata": {},
   "outputs": [
    {
     "name": "stdout",
     "output_type": "stream",
     "text": [
      "Ejecución 1\n",
      "Politica: eps_greedy con 0.1. mutate gaussiano 1 con un 0.2\n",
      "--- Creacion de poblacion: Individuos = 100, Rango = (-5, 5)\n",
      "Parámetros: pmut = 0.1, Rango de Mutacion = (-1, 1), arquitecture = [8, 6, 4], generations = 500, T = 8, pcross = 0.7, elitism = True, N_games = 3, n_elitism = 5\n",
      "Generacion: 50, Mejor fitness: 11.422957142116479\n",
      "Generacion: 100, Mejor fitness: 67.61561840971814\n",
      "Generacion: 150, Mejor fitness: 76.01256529432908\n",
      "Generacion: 200, Mejor fitness: 57.123378178389935\n",
      "Generacion: 250, Mejor fitness: 147.09967696905167\n",
      "Generacion: 300, Mejor fitness: 83.20467379905914\n",
      "Generacion: 350, Mejor fitness: 100.90866621151406\n",
      "Generacion: 400, Mejor fitness: 84.37204777723345\n",
      "Generacion: 450, Mejor fitness: 178.54690527999182\n",
      "Generacion: 500, Mejor fitness: 93.12528786425844\n",
      "Generacion: 500, Mejor fitness: 93.12528786425844\n"
     ]
    }
   ],
   "source": [
    "best_individuals = []\n",
    "fitness_values = []\n",
    "\n",
    "for i in range(1,2):\n",
    "    print(f\"Ejecución {i}\")\n",
    "    print(\"Politica: eps_greedy con 0.1. mutate gaussiano 1 con un 0.5\")\n",
    "    rangMutacion = (-1, 1)\n",
    "    createRang = (-5, 5)\n",
    "\n",
    "    pop = create(createRang, arquitecture=[8,6,4]) \n",
    "\n",
    "    pop, fitness, f_max, f_min, f_mean = evolve_gen(pop, rangMutacion, pmut=0.1, arquitecture=[8,6,4], generations=500, T=8, trace=50, pcross=0.7, elitism=True, N_games=3, n_elitism=5)\n",
    "    \n",
    "    \n",
    "    best_individual = pop[0]  \n",
    "    fitness_value = fitness[0]\n",
    "\n",
    "    # Almacenar resultados\n",
    "    best_individuals.append(best_individual)\n",
    "    fitness_values.append(fitness_value)"
   ]
  },
  {
   "cell_type": "markdown",
   "metadata": {},
   "source": [
    "> con gaussiano 0.5 mal resultado, peor que con 0.2"
   ]
  },
  {
   "cell_type": "code",
   "execution_count": null,
   "metadata": {},
   "outputs": [
    {
     "name": "stdout",
     "output_type": "stream",
     "text": [
      "Ejecución 1\n",
      "Politica: eps_greedy con 0.1. mutate gaussiano 1 con un 0.002\n",
      "--- Creacion de poblacion: Individuos = 100, Rango = (-5, 5)\n",
      "Parámetros: pmut = 0.1, Rango de Mutacion = (-1, 1), arquitecture = [8, 6, 4], generations = 500, T = 8, pcross = 0.7, elitism = True, N_games = 3, n_elitism = 5\n",
      "Generacion: 50, Mejor fitness: 65.28758829852119\n",
      "Generacion: 100, Mejor fitness: 89.37999009918212\n",
      "Generacion: 150, Mejor fitness: -0.0038042584895663367\n",
      "Generacion: 200, Mejor fitness: 21.566102888642558\n",
      "Generacion: 250, Mejor fitness: -6.025721989972747\n",
      "Generacion: 300, Mejor fitness: 35.00274684683086\n",
      "Generacion: 350, Mejor fitness: 61.24328306919756\n",
      "Generacion: 400, Mejor fitness: 19.393631314960416\n",
      "Generacion: 450, Mejor fitness: 86.83538111534205\n",
      "Generacion: 500, Mejor fitness: 78.44051684660332\n",
      "Generacion: 500, Mejor fitness: 78.44051684660332\n"
     ]
    }
   ],
   "source": [
    "best_individuals = []\n",
    "fitness_values = []\n",
    "\n",
    "for i in range(1,2):\n",
    "    print(f\"Ejecución {i}\")\n",
    "    print(\"Politica: eps_greedy con 0.1. mutate gaussiano 1 con un 0.002\")\n",
    "    rangMutacion = (-1, 1)\n",
    "    createRang = (-5, 5)\n",
    "\n",
    "    pop = create(createRang, arquitecture=[8,6,4]) \n",
    "\n",
    "    pop, fitness, f_max, f_min, f_mean = evolve_gen(pop, rangMutacion, pmut=0.1, arquitecture=[8,6,4], generations=500, T=8, trace=50, pcross=0.7, elitism=True, N_games=3, n_elitism=5)\n",
    "    \n",
    "    \n",
    "    best_individual = pop[0]  \n",
    "    fitness_value = fitness[0]\n",
    "\n",
    "    # Almacenar resultados\n",
    "    best_individuals.append(best_individual)\n",
    "    fitness_values.append(fitness_value)"
   ]
  },
  {
   "cell_type": "markdown",
   "metadata": {},
   "source": [
    "> con 0.002 peor resultado que con 0.2 en gaussiano"
   ]
  },
  {
   "cell_type": "markdown",
   "metadata": {},
   "source": [
    "> **A partir de aqui se prueba con el modelo con elitismo con gaussiano de 0.2 que devuelve mejores resultados**"
   ]
  },
  {
   "cell_type": "code",
   "execution_count": 19,
   "metadata": {},
   "outputs": [
    {
     "name": "stdout",
     "output_type": "stream",
     "text": [
      "Ejecución 1\n",
      "Politica: softmax con tau 1. mutate gaussiano 1 con un 0.2\n",
      "--- Creacion de poblacion: Individuos = 100, Rango = (-5, 5)\n",
      "Parámetros: pmut = 0.1, Rango de Mutacion = (-1, 1), arquitecture = [8, 6, 4], generations = 1000, T = 8, pcross = 0.7, elitism = True, N_games = 3, n_elitism = 5\n",
      "Generacion: 50, Mejor fitness: -37.16841314385219\n",
      "Generacion: 100, Mejor fitness: -54.194679644311385\n",
      "Generacion: 150, Mejor fitness: -74.1731876751637\n"
     ]
    },
    {
     "ename": "KeyboardInterrupt",
     "evalue": "",
     "output_type": "error",
     "traceback": [
      "\u001b[1;31m---------------------------------------------------------------------------\u001b[0m",
      "\u001b[1;31mKeyboardInterrupt\u001b[0m                         Traceback (most recent call last)",
      "Cell \u001b[1;32mIn[19], line 12\u001b[0m\n\u001b[0;32m      8\u001b[0m createRang \u001b[38;5;241m=\u001b[39m (\u001b[38;5;241m-\u001b[39m\u001b[38;5;241m5\u001b[39m, \u001b[38;5;241m5\u001b[39m)\n\u001b[0;32m     10\u001b[0m pop \u001b[38;5;241m=\u001b[39m create(createRang, arquitecture\u001b[38;5;241m=\u001b[39m[\u001b[38;5;241m8\u001b[39m,\u001b[38;5;241m6\u001b[39m,\u001b[38;5;241m4\u001b[39m]) \n\u001b[1;32m---> 12\u001b[0m pop, fitness, f_max, f_min, f_mean \u001b[38;5;241m=\u001b[39m evolve_gen(pop, rangMutacion, pmut\u001b[38;5;241m=\u001b[39m\u001b[38;5;241m0.1\u001b[39m, arquitecture\u001b[38;5;241m=\u001b[39m[\u001b[38;5;241m8\u001b[39m,\u001b[38;5;241m6\u001b[39m,\u001b[38;5;241m4\u001b[39m], generations\u001b[38;5;241m=\u001b[39m\u001b[38;5;241m1000\u001b[39m, T\u001b[38;5;241m=\u001b[39m\u001b[38;5;241m8\u001b[39m, trace\u001b[38;5;241m=\u001b[39m\u001b[38;5;241m50\u001b[39m, pcross\u001b[38;5;241m=\u001b[39m\u001b[38;5;241m0.7\u001b[39m, elitism\u001b[38;5;241m=\u001b[39m\u001b[38;5;28;01mTrue\u001b[39;00m, N_games\u001b[38;5;241m=\u001b[39m\u001b[38;5;241m3\u001b[39m, n_elitism\u001b[38;5;241m=\u001b[39m\u001b[38;5;241m5\u001b[39m)\n\u001b[0;32m     15\u001b[0m best_individual \u001b[38;5;241m=\u001b[39m pop[\u001b[38;5;241m0\u001b[39m]  \n\u001b[0;32m     16\u001b[0m fitness_value \u001b[38;5;241m=\u001b[39m fitness[\u001b[38;5;241m0\u001b[39m]\n",
      "Cell \u001b[1;32mIn[16], line 52\u001b[0m, in \u001b[0;36mevolve_gen\u001b[1;34m(pop, rangMut, pmut, arquitecture, generations, T, trace, pcross, elitism, N_games, n_elitism)\u001b[0m\n\u001b[0;32m     49\u001b[0m \u001b[38;5;28;01mwhile\u001b[39;00m generation \u001b[38;5;241m<\u001b[39m generations:\n\u001b[0;32m     50\u001b[0m     new_poblacion \u001b[38;5;241m=\u001b[39m []\n\u001b[1;32m---> 52\u001b[0m     fitness_array \u001b[38;5;241m=\u001b[39m \u001b[38;5;28mlist\u001b[39m(executor\u001b[38;5;241m.\u001b[39mmap(run_multiple_games, pop, itertools\u001b[38;5;241m.\u001b[39mrepeat(arquitecture), itertools\u001b[38;5;241m.\u001b[39mrepeat(N_games)))\n\u001b[0;32m     53\u001b[0m     generation \u001b[38;5;241m+\u001b[39m\u001b[38;5;241m=\u001b[39m \u001b[38;5;241m1\u001b[39m\n\u001b[0;32m     55\u001b[0m     pop, fitness \u001b[38;5;241m=\u001b[39m sort_pop(pop, fitness_array)\n",
      "File \u001b[1;32mc:\\Users\\34627\\anaconda3\\Lib\\site-packages\\loky\\process_executor.py:967\u001b[0m, in \u001b[0;36m_chain_from_iterable_of_lists\u001b[1;34m(iterable)\u001b[0m\n\u001b[0;32m    961\u001b[0m \u001b[38;5;28;01mdef\u001b[39;00m \u001b[38;5;21m_chain_from_iterable_of_lists\u001b[39m(iterable):\n\u001b[0;32m    962\u001b[0m \u001b[38;5;250m    \u001b[39m\u001b[38;5;124;03m\"\"\"\u001b[39;00m\n\u001b[0;32m    963\u001b[0m \u001b[38;5;124;03m    Specialized implementation of itertools.chain.from_iterable.\u001b[39;00m\n\u001b[0;32m    964\u001b[0m \u001b[38;5;124;03m    Each item in *iterable* should be a list.  This function is\u001b[39;00m\n\u001b[0;32m    965\u001b[0m \u001b[38;5;124;03m    careful not to keep references to yielded objects.\u001b[39;00m\n\u001b[0;32m    966\u001b[0m \u001b[38;5;124;03m    \"\"\"\u001b[39;00m\n\u001b[1;32m--> 967\u001b[0m     \u001b[38;5;28;01mfor\u001b[39;00m element \u001b[38;5;129;01min\u001b[39;00m iterable:\n\u001b[0;32m    968\u001b[0m         element\u001b[38;5;241m.\u001b[39mreverse()\n\u001b[0;32m    969\u001b[0m         \u001b[38;5;28;01mwhile\u001b[39;00m element:\n",
      "File \u001b[1;32mc:\\Users\\34627\\anaconda3\\Lib\\concurrent\\futures\\_base.py:619\u001b[0m, in \u001b[0;36mExecutor.map.<locals>.result_iterator\u001b[1;34m()\u001b[0m\n\u001b[0;32m    616\u001b[0m \u001b[38;5;28;01mwhile\u001b[39;00m fs:\n\u001b[0;32m    617\u001b[0m     \u001b[38;5;66;03m# Careful not to keep a reference to the popped future\u001b[39;00m\n\u001b[0;32m    618\u001b[0m     \u001b[38;5;28;01mif\u001b[39;00m timeout \u001b[38;5;129;01mis\u001b[39;00m \u001b[38;5;28;01mNone\u001b[39;00m:\n\u001b[1;32m--> 619\u001b[0m         \u001b[38;5;28;01myield\u001b[39;00m _result_or_cancel(fs\u001b[38;5;241m.\u001b[39mpop())\n\u001b[0;32m    620\u001b[0m     \u001b[38;5;28;01melse\u001b[39;00m:\n\u001b[0;32m    621\u001b[0m         \u001b[38;5;28;01myield\u001b[39;00m _result_or_cancel(fs\u001b[38;5;241m.\u001b[39mpop(), end_time \u001b[38;5;241m-\u001b[39m time\u001b[38;5;241m.\u001b[39mmonotonic())\n",
      "File \u001b[1;32mc:\\Users\\34627\\anaconda3\\Lib\\concurrent\\futures\\_base.py:317\u001b[0m, in \u001b[0;36m_result_or_cancel\u001b[1;34m(***failed resolving arguments***)\u001b[0m\n\u001b[0;32m    315\u001b[0m \u001b[38;5;28;01mtry\u001b[39;00m:\n\u001b[0;32m    316\u001b[0m     \u001b[38;5;28;01mtry\u001b[39;00m:\n\u001b[1;32m--> 317\u001b[0m         \u001b[38;5;28;01mreturn\u001b[39;00m fut\u001b[38;5;241m.\u001b[39mresult(timeout)\n\u001b[0;32m    318\u001b[0m     \u001b[38;5;28;01mfinally\u001b[39;00m:\n\u001b[0;32m    319\u001b[0m         fut\u001b[38;5;241m.\u001b[39mcancel()\n",
      "File \u001b[1;32mc:\\Users\\34627\\anaconda3\\Lib\\concurrent\\futures\\_base.py:451\u001b[0m, in \u001b[0;36mFuture.result\u001b[1;34m(self, timeout)\u001b[0m\n\u001b[0;32m    448\u001b[0m \u001b[38;5;28;01melif\u001b[39;00m \u001b[38;5;28mself\u001b[39m\u001b[38;5;241m.\u001b[39m_state \u001b[38;5;241m==\u001b[39m FINISHED:\n\u001b[0;32m    449\u001b[0m     \u001b[38;5;28;01mreturn\u001b[39;00m \u001b[38;5;28mself\u001b[39m\u001b[38;5;241m.\u001b[39m__get_result()\n\u001b[1;32m--> 451\u001b[0m \u001b[38;5;28mself\u001b[39m\u001b[38;5;241m.\u001b[39m_condition\u001b[38;5;241m.\u001b[39mwait(timeout)\n\u001b[0;32m    453\u001b[0m \u001b[38;5;28;01mif\u001b[39;00m \u001b[38;5;28mself\u001b[39m\u001b[38;5;241m.\u001b[39m_state \u001b[38;5;129;01min\u001b[39;00m [CANCELLED, CANCELLED_AND_NOTIFIED]:\n\u001b[0;32m    454\u001b[0m     \u001b[38;5;28;01mraise\u001b[39;00m CancelledError()\n",
      "File \u001b[1;32mc:\\Users\\34627\\anaconda3\\Lib\\threading.py:355\u001b[0m, in \u001b[0;36mCondition.wait\u001b[1;34m(self, timeout)\u001b[0m\n\u001b[0;32m    353\u001b[0m \u001b[38;5;28;01mtry\u001b[39;00m:    \u001b[38;5;66;03m# restore state no matter what (e.g., KeyboardInterrupt)\u001b[39;00m\n\u001b[0;32m    354\u001b[0m     \u001b[38;5;28;01mif\u001b[39;00m timeout \u001b[38;5;129;01mis\u001b[39;00m \u001b[38;5;28;01mNone\u001b[39;00m:\n\u001b[1;32m--> 355\u001b[0m         waiter\u001b[38;5;241m.\u001b[39macquire()\n\u001b[0;32m    356\u001b[0m         gotit \u001b[38;5;241m=\u001b[39m \u001b[38;5;28;01mTrue\u001b[39;00m\n\u001b[0;32m    357\u001b[0m     \u001b[38;5;28;01melse\u001b[39;00m:\n",
      "\u001b[1;31mKeyboardInterrupt\u001b[0m: "
     ]
    }
   ],
   "source": [
    "best_individuals = []\n",
    "fitness_values = []\n",
    "\n",
    "for i in range(1,2):\n",
    "    print(f\"Ejecución {i}\")\n",
    "    print(\"Politica: softmax con tau 1. mutate gaussiano 1 con un 0.2\")\n",
    "    rangMutacion = (-1, 1)\n",
    "    createRang = (-5, 5)\n",
    "\n",
    "    pop = create(createRang, arquitecture=[8,6,4]) \n",
    "\n",
    "    pop, fitness, f_max, f_min, f_mean = evolve_gen(pop, rangMutacion, pmut=0.1, arquitecture=[8,6,4], generations=1000, T=8, trace=50, pcross=0.7, elitism=True, N_games=3, n_elitism=5)\n",
    "    \n",
    "    \n",
    "    best_individual = pop[0]  \n",
    "    fitness_value = fitness[0]\n",
    "\n",
    "    # Almacenar resultados\n",
    "    best_individuals.append(best_individual)\n",
    "    fitness_values.append(fitness_value)"
   ]
  },
  {
   "cell_type": "markdown",
   "metadata": {},
   "source": [
    "crossoveralpha\n",
    "--- "
   ]
  },
  {
   "cell_type": "code",
   "execution_count": 57,
   "metadata": {},
   "outputs": [
    {
     "name": "stdout",
     "output_type": "stream",
     "text": [
      "Ejecución 1\n",
      "Politica: eps_greedy con 0.1. CrossoverAlpha. Mutate\n",
      "--- Creacion de poblacion: Individuos = 100, Rango = (-5, 5)\n",
      "Parámetros: pmut = 0.1, Rango de Mutacion = (-0.5, 0.5), arquitecture = [8, 6, 4], generations = 400, T = 8, pcross = 0.7, elitism = False, N_games = 3, n_elitism = 0\n",
      "Generacion: 50, Mejor fitness: -35.999008696320644\n",
      "Generacion: 100, Mejor fitness: 10.098202348063362\n",
      "Generacion: 150, Mejor fitness: 21.45269884831161\n",
      "Generacion: 200, Mejor fitness: 72.04829206392701\n"
     ]
    },
    {
     "name": "stderr",
     "output_type": "stream",
     "text": [
      "c:\\Users\\34627\\anaconda3\\Lib\\site-packages\\loky\\process_executor.py:752: UserWarning: A worker stopped while some jobs were given to the executor. This can be caused by a too short worker timeout or by a memory leak.\n",
      "  warnings.warn(\n"
     ]
    },
    {
     "name": "stdout",
     "output_type": "stream",
     "text": [
      "Generacion: 250, Mejor fitness: 35.56249142596106\n",
      "Generacion: 300, Mejor fitness: 70.87306877110888\n"
     ]
    },
    {
     "ename": "KeyboardInterrupt",
     "evalue": "",
     "output_type": "error",
     "traceback": [
      "\u001b[1;31m---------------------------------------------------------------------------\u001b[0m",
      "\u001b[1;31mKeyboardInterrupt\u001b[0m                         Traceback (most recent call last)",
      "Cell \u001b[1;32mIn[57], line 12\u001b[0m\n\u001b[0;32m      8\u001b[0m createRang \u001b[38;5;241m=\u001b[39m (\u001b[38;5;241m-\u001b[39m\u001b[38;5;241m5\u001b[39m, \u001b[38;5;241m5\u001b[39m)\n\u001b[0;32m     10\u001b[0m pop \u001b[38;5;241m=\u001b[39m create(createRang, arquitecture\u001b[38;5;241m=\u001b[39m[\u001b[38;5;241m8\u001b[39m,\u001b[38;5;241m6\u001b[39m,\u001b[38;5;241m4\u001b[39m]) \n\u001b[1;32m---> 12\u001b[0m pop, fitness, f_max, f_min, f_mean \u001b[38;5;241m=\u001b[39m evolve_gen(pop, rangMutacion, pmut\u001b[38;5;241m=\u001b[39m\u001b[38;5;241m0.1\u001b[39m, arquitecture\u001b[38;5;241m=\u001b[39m[\u001b[38;5;241m8\u001b[39m,\u001b[38;5;241m6\u001b[39m,\u001b[38;5;241m4\u001b[39m], generations\u001b[38;5;241m=\u001b[39m\u001b[38;5;241m400\u001b[39m, T\u001b[38;5;241m=\u001b[39m\u001b[38;5;241m8\u001b[39m, trace\u001b[38;5;241m=\u001b[39m\u001b[38;5;241m50\u001b[39m, pcross\u001b[38;5;241m=\u001b[39m\u001b[38;5;241m0.7\u001b[39m, elitism\u001b[38;5;241m=\u001b[39m\u001b[38;5;28;01mFalse\u001b[39;00m, N_games\u001b[38;5;241m=\u001b[39m\u001b[38;5;241m3\u001b[39m)\n\u001b[0;32m     14\u001b[0m best_individual \u001b[38;5;241m=\u001b[39m pop[\u001b[38;5;241m0\u001b[39m]  \n\u001b[0;32m     15\u001b[0m fitness_value \u001b[38;5;241m=\u001b[39m fitness[\u001b[38;5;241m0\u001b[39m]\n",
      "Cell \u001b[1;32mIn[55], line 48\u001b[0m, in \u001b[0;36mevolve_gen\u001b[1;34m(pop, rangMut, pmut, arquitecture, generations, T, trace, pcross, elitism, N_games, n_elitism)\u001b[0m\n\u001b[0;32m     45\u001b[0m \u001b[38;5;28;01mwhile\u001b[39;00m generation \u001b[38;5;241m<\u001b[39m generations:\n\u001b[0;32m     46\u001b[0m     new_poblacion \u001b[38;5;241m=\u001b[39m []\n\u001b[1;32m---> 48\u001b[0m     fitness_array \u001b[38;5;241m=\u001b[39m \u001b[38;5;28mlist\u001b[39m(executor\u001b[38;5;241m.\u001b[39mmap(run_multiple_games, pop, itertools\u001b[38;5;241m.\u001b[39mrepeat(arquitecture), itertools\u001b[38;5;241m.\u001b[39mrepeat(N_games)))\n\u001b[0;32m     49\u001b[0m     generation \u001b[38;5;241m+\u001b[39m\u001b[38;5;241m=\u001b[39m \u001b[38;5;241m1\u001b[39m\n\u001b[0;32m     51\u001b[0m     pop, fitness \u001b[38;5;241m=\u001b[39m sort_pop(pop, fitness_array)\n",
      "File \u001b[1;32mc:\\Users\\34627\\anaconda3\\Lib\\site-packages\\loky\\process_executor.py:967\u001b[0m, in \u001b[0;36m_chain_from_iterable_of_lists\u001b[1;34m(iterable)\u001b[0m\n\u001b[0;32m    961\u001b[0m \u001b[38;5;28;01mdef\u001b[39;00m \u001b[38;5;21m_chain_from_iterable_of_lists\u001b[39m(iterable):\n\u001b[0;32m    962\u001b[0m \u001b[38;5;250m    \u001b[39m\u001b[38;5;124;03m\"\"\"\u001b[39;00m\n\u001b[0;32m    963\u001b[0m \u001b[38;5;124;03m    Specialized implementation of itertools.chain.from_iterable.\u001b[39;00m\n\u001b[0;32m    964\u001b[0m \u001b[38;5;124;03m    Each item in *iterable* should be a list.  This function is\u001b[39;00m\n\u001b[0;32m    965\u001b[0m \u001b[38;5;124;03m    careful not to keep references to yielded objects.\u001b[39;00m\n\u001b[0;32m    966\u001b[0m \u001b[38;5;124;03m    \"\"\"\u001b[39;00m\n\u001b[1;32m--> 967\u001b[0m     \u001b[38;5;28;01mfor\u001b[39;00m element \u001b[38;5;129;01min\u001b[39;00m iterable:\n\u001b[0;32m    968\u001b[0m         element\u001b[38;5;241m.\u001b[39mreverse()\n\u001b[0;32m    969\u001b[0m         \u001b[38;5;28;01mwhile\u001b[39;00m element:\n",
      "File \u001b[1;32mc:\\Users\\34627\\anaconda3\\Lib\\concurrent\\futures\\_base.py:619\u001b[0m, in \u001b[0;36mExecutor.map.<locals>.result_iterator\u001b[1;34m()\u001b[0m\n\u001b[0;32m    616\u001b[0m \u001b[38;5;28;01mwhile\u001b[39;00m fs:\n\u001b[0;32m    617\u001b[0m     \u001b[38;5;66;03m# Careful not to keep a reference to the popped future\u001b[39;00m\n\u001b[0;32m    618\u001b[0m     \u001b[38;5;28;01mif\u001b[39;00m timeout \u001b[38;5;129;01mis\u001b[39;00m \u001b[38;5;28;01mNone\u001b[39;00m:\n\u001b[1;32m--> 619\u001b[0m         \u001b[38;5;28;01myield\u001b[39;00m _result_or_cancel(fs\u001b[38;5;241m.\u001b[39mpop())\n\u001b[0;32m    620\u001b[0m     \u001b[38;5;28;01melse\u001b[39;00m:\n\u001b[0;32m    621\u001b[0m         \u001b[38;5;28;01myield\u001b[39;00m _result_or_cancel(fs\u001b[38;5;241m.\u001b[39mpop(), end_time \u001b[38;5;241m-\u001b[39m time\u001b[38;5;241m.\u001b[39mmonotonic())\n",
      "File \u001b[1;32mc:\\Users\\34627\\anaconda3\\Lib\\concurrent\\futures\\_base.py:317\u001b[0m, in \u001b[0;36m_result_or_cancel\u001b[1;34m(***failed resolving arguments***)\u001b[0m\n\u001b[0;32m    315\u001b[0m \u001b[38;5;28;01mtry\u001b[39;00m:\n\u001b[0;32m    316\u001b[0m     \u001b[38;5;28;01mtry\u001b[39;00m:\n\u001b[1;32m--> 317\u001b[0m         \u001b[38;5;28;01mreturn\u001b[39;00m fut\u001b[38;5;241m.\u001b[39mresult(timeout)\n\u001b[0;32m    318\u001b[0m     \u001b[38;5;28;01mfinally\u001b[39;00m:\n\u001b[0;32m    319\u001b[0m         fut\u001b[38;5;241m.\u001b[39mcancel()\n",
      "File \u001b[1;32mc:\\Users\\34627\\anaconda3\\Lib\\concurrent\\futures\\_base.py:451\u001b[0m, in \u001b[0;36mFuture.result\u001b[1;34m(self, timeout)\u001b[0m\n\u001b[0;32m    448\u001b[0m \u001b[38;5;28;01melif\u001b[39;00m \u001b[38;5;28mself\u001b[39m\u001b[38;5;241m.\u001b[39m_state \u001b[38;5;241m==\u001b[39m FINISHED:\n\u001b[0;32m    449\u001b[0m     \u001b[38;5;28;01mreturn\u001b[39;00m \u001b[38;5;28mself\u001b[39m\u001b[38;5;241m.\u001b[39m__get_result()\n\u001b[1;32m--> 451\u001b[0m \u001b[38;5;28mself\u001b[39m\u001b[38;5;241m.\u001b[39m_condition\u001b[38;5;241m.\u001b[39mwait(timeout)\n\u001b[0;32m    453\u001b[0m \u001b[38;5;28;01mif\u001b[39;00m \u001b[38;5;28mself\u001b[39m\u001b[38;5;241m.\u001b[39m_state \u001b[38;5;129;01min\u001b[39;00m [CANCELLED, CANCELLED_AND_NOTIFIED]:\n\u001b[0;32m    454\u001b[0m     \u001b[38;5;28;01mraise\u001b[39;00m CancelledError()\n",
      "File \u001b[1;32mc:\\Users\\34627\\anaconda3\\Lib\\threading.py:355\u001b[0m, in \u001b[0;36mCondition.wait\u001b[1;34m(self, timeout)\u001b[0m\n\u001b[0;32m    353\u001b[0m \u001b[38;5;28;01mtry\u001b[39;00m:    \u001b[38;5;66;03m# restore state no matter what (e.g., KeyboardInterrupt)\u001b[39;00m\n\u001b[0;32m    354\u001b[0m     \u001b[38;5;28;01mif\u001b[39;00m timeout \u001b[38;5;129;01mis\u001b[39;00m \u001b[38;5;28;01mNone\u001b[39;00m:\n\u001b[1;32m--> 355\u001b[0m         waiter\u001b[38;5;241m.\u001b[39macquire()\n\u001b[0;32m    356\u001b[0m         gotit \u001b[38;5;241m=\u001b[39m \u001b[38;5;28;01mTrue\u001b[39;00m\n\u001b[0;32m    357\u001b[0m     \u001b[38;5;28;01melse\u001b[39;00m:\n",
      "\u001b[1;31mKeyboardInterrupt\u001b[0m: "
     ]
    }
   ],
   "source": [
    "best_individuals = []\n",
    "fitness_values = []\n",
    "\n",
    "for i in range(1,2):\n",
    "    print(f\"Ejecución {i}\")\n",
    "    print(\"Politica: eps_greedy con 0.1. CrossoverAlpha. Mutate\")\n",
    "    rangMutacion = (-0.5, 0.5)\n",
    "    createRang = (-5, 5)\n",
    "\n",
    "    pop = create(createRang, arquitecture=[8,6,4]) \n",
    "\n",
    "    pop, fitness, f_max, f_min, f_mean = evolve_gen(pop, rangMutacion, pmut=0.1, arquitecture=[8,6,4], generations=400, T=8, trace=50, pcross=0.7, elitism=False, N_games=3)\n",
    "\n",
    "    best_individual = pop[0]  \n",
    "    fitness_value = fitness[0]\n",
    "\n",
    "    # Almacenar resultados\n",
    "    best_individuals.append(best_individual)\n",
    "    fitness_values.append(fitness_value)"
   ]
  },
  {
   "cell_type": "markdown",
   "metadata": {},
   "source": [
    "> *el crossalpha mejora, se mantiene el mutate de un solo cromosoma. La siguiente prueba deberia probar el elitismo para comparar* "
   ]
  },
  {
   "cell_type": "code",
   "execution_count": 59,
   "metadata": {},
   "outputs": [
    {
     "name": "stdout",
     "output_type": "stream",
     "text": [
      "Ejecución 1\n",
      "Politica: eps_greedy con 0.1. CrossoverAlpha. MutateAll\n",
      "--- Creacion de poblacion: Individuos = 100, Rango = (-5, 5)\n",
      "Parámetros: pmut = 0.1, Rango de Mutacion = (-0.5, 0.5), arquitecture = [8, 6, 4], generations = 400, T = 8, pcross = 0.7, elitism = False, N_games = 3, n_elitism = 0\n",
      "Generacion: 50, Mejor fitness: -58.752105667000144\n",
      "Generacion: 100, Mejor fitness: -72.73072680015183\n",
      "Generacion: 150, Mejor fitness: -74.73886385553304\n",
      "Generacion: 200, Mejor fitness: -46.977320375974976\n",
      "Generacion: 250, Mejor fitness: -66.19552148259136\n",
      "Generacion: 300, Mejor fitness: -71.2861971843973\n",
      "Generacion: 350, Mejor fitness: -42.50070383600472\n",
      "Generacion: 400, Mejor fitness: -62.88089714699775\n",
      "Generacion: 400, Mejor fitness: -62.88089714699775\n"
     ]
    }
   ],
   "source": [
    "best_individuals = []\n",
    "fitness_values = []\n",
    "\n",
    "for i in range(1,2):\n",
    "    print(f\"Ejecución {i}\")\n",
    "    print(\"Politica: eps_greedy con 0.1. CrossoverAlpha. MutateAll\")\n",
    "    rangMutacion = (-0.5, 0.5)\n",
    "    createRang = (-5, 5)\n",
    "\n",
    "    pop = create(createRang, arquitecture=[8,6,4]) \n",
    "\n",
    "    pop, fitness, f_max, f_min, f_mean = evolve_gen(pop, rangMutacion, pmut=0.1, arquitecture=[8,6,4], generations=400, T=8, trace=50, pcross=0.7, elitism=False, N_games=3)\n",
    "\n",
    "    best_individual = pop[0]  \n",
    "    fitness_value = fitness[0]\n",
    "\n",
    "    # Almacenar resultados\n",
    "    best_individuals.append(best_individual)\n",
    "    fitness_values.append(fitness_value)"
   ]
  },
  {
   "cell_type": "markdown",
   "metadata": {},
   "source": [
    "> *Manteniendo el crossalpha, se cambia el mutate por mutateall que se aplica a todos los cromosoomas de un individuo, EMPEORAN LOS RESULTADOS MUCHO* "
   ]
  },
  {
   "cell_type": "code",
   "execution_count": 61,
   "metadata": {},
   "outputs": [
    {
     "name": "stdout",
     "output_type": "stream",
     "text": [
      "Ejecución 1\n",
      "Politica: eps_greedy con 0.1. CrossoverAlpha. Mutate\n",
      "--- Creacion de poblacion: Individuos = 100, Rango = (-5, 5)\n",
      "Parámetros: pmut = 0.1, Rango de Mutacion = (-0.5, 0.5), arquitecture = [8, 6, 4], generations = 400, T = 8, pcross = 0.7, elitism = False, N_games = 3, n_elitism = 0\n",
      "Generacion: 50, Mejor fitness: 11.432450123791588\n",
      "Generacion: 100, Mejor fitness: 35.83892556032425\n",
      "Generacion: 150, Mejor fitness: 9.02435066516919\n",
      "Generacion: 200, Mejor fitness: 2.8504486365466923\n",
      "Generacion: 250, Mejor fitness: 62.04690986405573\n",
      "Generacion: 300, Mejor fitness: 72.76156280751097\n"
     ]
    },
    {
     "ename": "KeyboardInterrupt",
     "evalue": "",
     "output_type": "error",
     "traceback": [
      "\u001b[1;31m---------------------------------------------------------------------------\u001b[0m",
      "\u001b[1;31mKeyboardInterrupt\u001b[0m                         Traceback (most recent call last)",
      "Cell \u001b[1;32mIn[61], line 12\u001b[0m\n\u001b[0;32m      8\u001b[0m createRang \u001b[38;5;241m=\u001b[39m (\u001b[38;5;241m-\u001b[39m\u001b[38;5;241m5\u001b[39m, \u001b[38;5;241m5\u001b[39m)\n\u001b[0;32m     10\u001b[0m pop \u001b[38;5;241m=\u001b[39m create(createRang, arquitecture\u001b[38;5;241m=\u001b[39m[\u001b[38;5;241m8\u001b[39m,\u001b[38;5;241m6\u001b[39m,\u001b[38;5;241m4\u001b[39m]) \n\u001b[1;32m---> 12\u001b[0m pop, fitness, f_max, f_min, f_mean \u001b[38;5;241m=\u001b[39m evolve_gen(pop, rangMutacion, pmut\u001b[38;5;241m=\u001b[39m\u001b[38;5;241m0.1\u001b[39m, arquitecture\u001b[38;5;241m=\u001b[39m[\u001b[38;5;241m8\u001b[39m,\u001b[38;5;241m6\u001b[39m,\u001b[38;5;241m4\u001b[39m], generations\u001b[38;5;241m=\u001b[39m\u001b[38;5;241m400\u001b[39m, T\u001b[38;5;241m=\u001b[39m\u001b[38;5;241m8\u001b[39m, trace\u001b[38;5;241m=\u001b[39m\u001b[38;5;241m50\u001b[39m, pcross\u001b[38;5;241m=\u001b[39m\u001b[38;5;241m0.7\u001b[39m, elitism\u001b[38;5;241m=\u001b[39m\u001b[38;5;28;01mFalse\u001b[39;00m, N_games\u001b[38;5;241m=\u001b[39m\u001b[38;5;241m3\u001b[39m)\n\u001b[0;32m     14\u001b[0m best_individual \u001b[38;5;241m=\u001b[39m pop[\u001b[38;5;241m0\u001b[39m]  \n\u001b[0;32m     15\u001b[0m fitness_value \u001b[38;5;241m=\u001b[39m fitness[\u001b[38;5;241m0\u001b[39m]\n",
      "Cell \u001b[1;32mIn[60], line 48\u001b[0m, in \u001b[0;36mevolve_gen\u001b[1;34m(pop, rangMut, pmut, arquitecture, generations, T, trace, pcross, elitism, N_games, n_elitism)\u001b[0m\n\u001b[0;32m     45\u001b[0m \u001b[38;5;28;01mwhile\u001b[39;00m generation \u001b[38;5;241m<\u001b[39m generations:\n\u001b[0;32m     46\u001b[0m     new_poblacion \u001b[38;5;241m=\u001b[39m []\n\u001b[1;32m---> 48\u001b[0m     fitness_array \u001b[38;5;241m=\u001b[39m \u001b[38;5;28mlist\u001b[39m(executor\u001b[38;5;241m.\u001b[39mmap(run_multiple_games, pop, itertools\u001b[38;5;241m.\u001b[39mrepeat(arquitecture), itertools\u001b[38;5;241m.\u001b[39mrepeat(N_games)))\n\u001b[0;32m     49\u001b[0m     generation \u001b[38;5;241m+\u001b[39m\u001b[38;5;241m=\u001b[39m \u001b[38;5;241m1\u001b[39m\n\u001b[0;32m     51\u001b[0m     pop, fitness \u001b[38;5;241m=\u001b[39m sort_pop(pop, fitness_array)\n",
      "File \u001b[1;32mc:\\Users\\34627\\anaconda3\\Lib\\site-packages\\loky\\process_executor.py:967\u001b[0m, in \u001b[0;36m_chain_from_iterable_of_lists\u001b[1;34m(iterable)\u001b[0m\n\u001b[0;32m    961\u001b[0m \u001b[38;5;28;01mdef\u001b[39;00m \u001b[38;5;21m_chain_from_iterable_of_lists\u001b[39m(iterable):\n\u001b[0;32m    962\u001b[0m \u001b[38;5;250m    \u001b[39m\u001b[38;5;124;03m\"\"\"\u001b[39;00m\n\u001b[0;32m    963\u001b[0m \u001b[38;5;124;03m    Specialized implementation of itertools.chain.from_iterable.\u001b[39;00m\n\u001b[0;32m    964\u001b[0m \u001b[38;5;124;03m    Each item in *iterable* should be a list.  This function is\u001b[39;00m\n\u001b[0;32m    965\u001b[0m \u001b[38;5;124;03m    careful not to keep references to yielded objects.\u001b[39;00m\n\u001b[0;32m    966\u001b[0m \u001b[38;5;124;03m    \"\"\"\u001b[39;00m\n\u001b[1;32m--> 967\u001b[0m     \u001b[38;5;28;01mfor\u001b[39;00m element \u001b[38;5;129;01min\u001b[39;00m iterable:\n\u001b[0;32m    968\u001b[0m         element\u001b[38;5;241m.\u001b[39mreverse()\n\u001b[0;32m    969\u001b[0m         \u001b[38;5;28;01mwhile\u001b[39;00m element:\n",
      "File \u001b[1;32mc:\\Users\\34627\\anaconda3\\Lib\\concurrent\\futures\\_base.py:619\u001b[0m, in \u001b[0;36mExecutor.map.<locals>.result_iterator\u001b[1;34m()\u001b[0m\n\u001b[0;32m    616\u001b[0m \u001b[38;5;28;01mwhile\u001b[39;00m fs:\n\u001b[0;32m    617\u001b[0m     \u001b[38;5;66;03m# Careful not to keep a reference to the popped future\u001b[39;00m\n\u001b[0;32m    618\u001b[0m     \u001b[38;5;28;01mif\u001b[39;00m timeout \u001b[38;5;129;01mis\u001b[39;00m \u001b[38;5;28;01mNone\u001b[39;00m:\n\u001b[1;32m--> 619\u001b[0m         \u001b[38;5;28;01myield\u001b[39;00m _result_or_cancel(fs\u001b[38;5;241m.\u001b[39mpop())\n\u001b[0;32m    620\u001b[0m     \u001b[38;5;28;01melse\u001b[39;00m:\n\u001b[0;32m    621\u001b[0m         \u001b[38;5;28;01myield\u001b[39;00m _result_or_cancel(fs\u001b[38;5;241m.\u001b[39mpop(), end_time \u001b[38;5;241m-\u001b[39m time\u001b[38;5;241m.\u001b[39mmonotonic())\n",
      "File \u001b[1;32mc:\\Users\\34627\\anaconda3\\Lib\\concurrent\\futures\\_base.py:317\u001b[0m, in \u001b[0;36m_result_or_cancel\u001b[1;34m(***failed resolving arguments***)\u001b[0m\n\u001b[0;32m    315\u001b[0m \u001b[38;5;28;01mtry\u001b[39;00m:\n\u001b[0;32m    316\u001b[0m     \u001b[38;5;28;01mtry\u001b[39;00m:\n\u001b[1;32m--> 317\u001b[0m         \u001b[38;5;28;01mreturn\u001b[39;00m fut\u001b[38;5;241m.\u001b[39mresult(timeout)\n\u001b[0;32m    318\u001b[0m     \u001b[38;5;28;01mfinally\u001b[39;00m:\n\u001b[0;32m    319\u001b[0m         fut\u001b[38;5;241m.\u001b[39mcancel()\n",
      "File \u001b[1;32mc:\\Users\\34627\\anaconda3\\Lib\\concurrent\\futures\\_base.py:451\u001b[0m, in \u001b[0;36mFuture.result\u001b[1;34m(self, timeout)\u001b[0m\n\u001b[0;32m    448\u001b[0m \u001b[38;5;28;01melif\u001b[39;00m \u001b[38;5;28mself\u001b[39m\u001b[38;5;241m.\u001b[39m_state \u001b[38;5;241m==\u001b[39m FINISHED:\n\u001b[0;32m    449\u001b[0m     \u001b[38;5;28;01mreturn\u001b[39;00m \u001b[38;5;28mself\u001b[39m\u001b[38;5;241m.\u001b[39m__get_result()\n\u001b[1;32m--> 451\u001b[0m \u001b[38;5;28mself\u001b[39m\u001b[38;5;241m.\u001b[39m_condition\u001b[38;5;241m.\u001b[39mwait(timeout)\n\u001b[0;32m    453\u001b[0m \u001b[38;5;28;01mif\u001b[39;00m \u001b[38;5;28mself\u001b[39m\u001b[38;5;241m.\u001b[39m_state \u001b[38;5;129;01min\u001b[39;00m [CANCELLED, CANCELLED_AND_NOTIFIED]:\n\u001b[0;32m    454\u001b[0m     \u001b[38;5;28;01mraise\u001b[39;00m CancelledError()\n",
      "File \u001b[1;32mc:\\Users\\34627\\anaconda3\\Lib\\threading.py:355\u001b[0m, in \u001b[0;36mCondition.wait\u001b[1;34m(self, timeout)\u001b[0m\n\u001b[0;32m    353\u001b[0m \u001b[38;5;28;01mtry\u001b[39;00m:    \u001b[38;5;66;03m# restore state no matter what (e.g., KeyboardInterrupt)\u001b[39;00m\n\u001b[0;32m    354\u001b[0m     \u001b[38;5;28;01mif\u001b[39;00m timeout \u001b[38;5;129;01mis\u001b[39;00m \u001b[38;5;28;01mNone\u001b[39;00m:\n\u001b[1;32m--> 355\u001b[0m         waiter\u001b[38;5;241m.\u001b[39macquire()\n\u001b[0;32m    356\u001b[0m         gotit \u001b[38;5;241m=\u001b[39m \u001b[38;5;28;01mTrue\u001b[39;00m\n\u001b[0;32m    357\u001b[0m     \u001b[38;5;28;01melse\u001b[39;00m:\n",
      "\u001b[1;31mKeyboardInterrupt\u001b[0m: "
     ]
    }
   ],
   "source": [
    "best_individuals = []\n",
    "fitness_values = []\n",
    "\n",
    "for i in range(1,2):\n",
    "    print(f\"Ejecución {i}\")\n",
    "    print(\"Politica: eps_greedy con 0.1. CrossoverAlpha. Mutate\")\n",
    "    rangMutacion = (-0.5, 0.5)\n",
    "    createRang = (-5, 5)\n",
    "\n",
    "    pop = create(createRang, arquitecture=[8,6,4]) \n",
    "\n",
    "    pop, fitness, f_max, f_min, f_mean = evolve_gen(pop, rangMutacion, pmut=0.1, arquitecture=[8,6,4], generations=400, T=8, trace=50, pcross=0.7, elitism=False, N_games=3)\n",
    "\n",
    "    best_individual = pop[0]  \n",
    "    fitness_value = fitness[0]\n",
    "\n",
    "    # Almacenar resultados\n",
    "    best_individuals.append(best_individual)\n",
    "    fitness_values.append(fitness_value)"
   ]
  },
  {
   "cell_type": "code",
   "execution_count": null,
   "metadata": {},
   "outputs": [
    {
     "name": "stdout",
     "output_type": "stream",
     "text": [
      "Ejecución 1\n",
      "Politica: eps_greedy con 0.1. CrossoverAlpha. Mutate gaussiano All\n",
      "--- Creacion de poblacion: Individuos = 100, Rango = (-5, 5)\n",
      "Parámetros: pmut = 0.1, Rango de Mutacion = (-0.5, 0.5), arquitecture = [8, 6, 4], generations = 400, T = 8, pcross = 0.7, elitism = False, N_games = 3, n_elitism = 0\n",
      "Generacion: 50, Mejor fitness: -4.915456933878223\n",
      "Generacion: 100, Mejor fitness: -34.61324409498328\n",
      "Generacion: 150, Mejor fitness: -32.40524920818418\n",
      "Generacion: 200, Mejor fitness: -15.443642009884522\n",
      "Generacion: 250, Mejor fitness: -24.28136540045973\n",
      "Generacion: 300, Mejor fitness: -10.595542953064347\n"
     ]
    },
    {
     "ename": "KeyboardInterrupt",
     "evalue": "",
     "output_type": "error",
     "traceback": [
      "\u001b[1;31m---------------------------------------------------------------------------\u001b[0m",
      "\u001b[1;31mKeyboardInterrupt\u001b[0m                         Traceback (most recent call last)",
      "Cell \u001b[1;32mIn[75], line 12\u001b[0m\n\u001b[0;32m      8\u001b[0m createRang \u001b[38;5;241m=\u001b[39m (\u001b[38;5;241m-\u001b[39m\u001b[38;5;241m5\u001b[39m, \u001b[38;5;241m5\u001b[39m)\n\u001b[0;32m     10\u001b[0m pop \u001b[38;5;241m=\u001b[39m create(createRang, arquitecture\u001b[38;5;241m=\u001b[39m[\u001b[38;5;241m8\u001b[39m,\u001b[38;5;241m6\u001b[39m,\u001b[38;5;241m4\u001b[39m]) \n\u001b[1;32m---> 12\u001b[0m pop, fitness, f_max, f_min, f_mean \u001b[38;5;241m=\u001b[39m evolve_gen(pop, rangMutacion, pmut\u001b[38;5;241m=\u001b[39m\u001b[38;5;241m0.1\u001b[39m, arquitecture\u001b[38;5;241m=\u001b[39m[\u001b[38;5;241m8\u001b[39m,\u001b[38;5;241m6\u001b[39m,\u001b[38;5;241m4\u001b[39m], generations\u001b[38;5;241m=\u001b[39m\u001b[38;5;241m400\u001b[39m, T\u001b[38;5;241m=\u001b[39m\u001b[38;5;241m8\u001b[39m, trace\u001b[38;5;241m=\u001b[39m\u001b[38;5;241m50\u001b[39m, pcross\u001b[38;5;241m=\u001b[39m\u001b[38;5;241m0.7\u001b[39m, elitism\u001b[38;5;241m=\u001b[39m\u001b[38;5;28;01mFalse\u001b[39;00m, N_games\u001b[38;5;241m=\u001b[39m\u001b[38;5;241m3\u001b[39m)\n\u001b[0;32m     14\u001b[0m best_individual \u001b[38;5;241m=\u001b[39m pop[\u001b[38;5;241m0\u001b[39m]  \n\u001b[0;32m     15\u001b[0m fitness_value \u001b[38;5;241m=\u001b[39m fitness[\u001b[38;5;241m0\u001b[39m]\n",
      "Cell \u001b[1;32mIn[74], line 48\u001b[0m, in \u001b[0;36mevolve_gen\u001b[1;34m(pop, rangMut, pmut, arquitecture, generations, T, trace, pcross, elitism, N_games, n_elitism)\u001b[0m\n\u001b[0;32m     45\u001b[0m \u001b[38;5;28;01mwhile\u001b[39;00m generation \u001b[38;5;241m<\u001b[39m generations:\n\u001b[0;32m     46\u001b[0m     new_poblacion \u001b[38;5;241m=\u001b[39m []\n\u001b[1;32m---> 48\u001b[0m     fitness_array \u001b[38;5;241m=\u001b[39m \u001b[38;5;28mlist\u001b[39m(executor\u001b[38;5;241m.\u001b[39mmap(run_multiple_games, pop, itertools\u001b[38;5;241m.\u001b[39mrepeat(arquitecture), itertools\u001b[38;5;241m.\u001b[39mrepeat(N_games)))\n\u001b[0;32m     49\u001b[0m     generation \u001b[38;5;241m+\u001b[39m\u001b[38;5;241m=\u001b[39m \u001b[38;5;241m1\u001b[39m\n\u001b[0;32m     51\u001b[0m     pop, fitness \u001b[38;5;241m=\u001b[39m sort_pop(pop, fitness_array)\n",
      "File \u001b[1;32mc:\\Users\\34627\\anaconda3\\Lib\\site-packages\\loky\\process_executor.py:967\u001b[0m, in \u001b[0;36m_chain_from_iterable_of_lists\u001b[1;34m(iterable)\u001b[0m\n\u001b[0;32m    961\u001b[0m \u001b[38;5;28;01mdef\u001b[39;00m \u001b[38;5;21m_chain_from_iterable_of_lists\u001b[39m(iterable):\n\u001b[0;32m    962\u001b[0m \u001b[38;5;250m    \u001b[39m\u001b[38;5;124;03m\"\"\"\u001b[39;00m\n\u001b[0;32m    963\u001b[0m \u001b[38;5;124;03m    Specialized implementation of itertools.chain.from_iterable.\u001b[39;00m\n\u001b[0;32m    964\u001b[0m \u001b[38;5;124;03m    Each item in *iterable* should be a list.  This function is\u001b[39;00m\n\u001b[0;32m    965\u001b[0m \u001b[38;5;124;03m    careful not to keep references to yielded objects.\u001b[39;00m\n\u001b[0;32m    966\u001b[0m \u001b[38;5;124;03m    \"\"\"\u001b[39;00m\n\u001b[1;32m--> 967\u001b[0m     \u001b[38;5;28;01mfor\u001b[39;00m element \u001b[38;5;129;01min\u001b[39;00m iterable:\n\u001b[0;32m    968\u001b[0m         element\u001b[38;5;241m.\u001b[39mreverse()\n\u001b[0;32m    969\u001b[0m         \u001b[38;5;28;01mwhile\u001b[39;00m element:\n",
      "File \u001b[1;32mc:\\Users\\34627\\anaconda3\\Lib\\concurrent\\futures\\_base.py:619\u001b[0m, in \u001b[0;36mExecutor.map.<locals>.result_iterator\u001b[1;34m()\u001b[0m\n\u001b[0;32m    616\u001b[0m \u001b[38;5;28;01mwhile\u001b[39;00m fs:\n\u001b[0;32m    617\u001b[0m     \u001b[38;5;66;03m# Careful not to keep a reference to the popped future\u001b[39;00m\n\u001b[0;32m    618\u001b[0m     \u001b[38;5;28;01mif\u001b[39;00m timeout \u001b[38;5;129;01mis\u001b[39;00m \u001b[38;5;28;01mNone\u001b[39;00m:\n\u001b[1;32m--> 619\u001b[0m         \u001b[38;5;28;01myield\u001b[39;00m _result_or_cancel(fs\u001b[38;5;241m.\u001b[39mpop())\n\u001b[0;32m    620\u001b[0m     \u001b[38;5;28;01melse\u001b[39;00m:\n\u001b[0;32m    621\u001b[0m         \u001b[38;5;28;01myield\u001b[39;00m _result_or_cancel(fs\u001b[38;5;241m.\u001b[39mpop(), end_time \u001b[38;5;241m-\u001b[39m time\u001b[38;5;241m.\u001b[39mmonotonic())\n",
      "File \u001b[1;32mc:\\Users\\34627\\anaconda3\\Lib\\concurrent\\futures\\_base.py:317\u001b[0m, in \u001b[0;36m_result_or_cancel\u001b[1;34m(***failed resolving arguments***)\u001b[0m\n\u001b[0;32m    315\u001b[0m \u001b[38;5;28;01mtry\u001b[39;00m:\n\u001b[0;32m    316\u001b[0m     \u001b[38;5;28;01mtry\u001b[39;00m:\n\u001b[1;32m--> 317\u001b[0m         \u001b[38;5;28;01mreturn\u001b[39;00m fut\u001b[38;5;241m.\u001b[39mresult(timeout)\n\u001b[0;32m    318\u001b[0m     \u001b[38;5;28;01mfinally\u001b[39;00m:\n\u001b[0;32m    319\u001b[0m         fut\u001b[38;5;241m.\u001b[39mcancel()\n",
      "File \u001b[1;32mc:\\Users\\34627\\anaconda3\\Lib\\concurrent\\futures\\_base.py:451\u001b[0m, in \u001b[0;36mFuture.result\u001b[1;34m(self, timeout)\u001b[0m\n\u001b[0;32m    448\u001b[0m \u001b[38;5;28;01melif\u001b[39;00m \u001b[38;5;28mself\u001b[39m\u001b[38;5;241m.\u001b[39m_state \u001b[38;5;241m==\u001b[39m FINISHED:\n\u001b[0;32m    449\u001b[0m     \u001b[38;5;28;01mreturn\u001b[39;00m \u001b[38;5;28mself\u001b[39m\u001b[38;5;241m.\u001b[39m__get_result()\n\u001b[1;32m--> 451\u001b[0m \u001b[38;5;28mself\u001b[39m\u001b[38;5;241m.\u001b[39m_condition\u001b[38;5;241m.\u001b[39mwait(timeout)\n\u001b[0;32m    453\u001b[0m \u001b[38;5;28;01mif\u001b[39;00m \u001b[38;5;28mself\u001b[39m\u001b[38;5;241m.\u001b[39m_state \u001b[38;5;129;01min\u001b[39;00m [CANCELLED, CANCELLED_AND_NOTIFIED]:\n\u001b[0;32m    454\u001b[0m     \u001b[38;5;28;01mraise\u001b[39;00m CancelledError()\n",
      "File \u001b[1;32mc:\\Users\\34627\\anaconda3\\Lib\\threading.py:355\u001b[0m, in \u001b[0;36mCondition.wait\u001b[1;34m(self, timeout)\u001b[0m\n\u001b[0;32m    353\u001b[0m \u001b[38;5;28;01mtry\u001b[39;00m:    \u001b[38;5;66;03m# restore state no matter what (e.g., KeyboardInterrupt)\u001b[39;00m\n\u001b[0;32m    354\u001b[0m     \u001b[38;5;28;01mif\u001b[39;00m timeout \u001b[38;5;129;01mis\u001b[39;00m \u001b[38;5;28;01mNone\u001b[39;00m:\n\u001b[1;32m--> 355\u001b[0m         waiter\u001b[38;5;241m.\u001b[39macquire()\n\u001b[0;32m    356\u001b[0m         gotit \u001b[38;5;241m=\u001b[39m \u001b[38;5;28;01mTrue\u001b[39;00m\n\u001b[0;32m    357\u001b[0m     \u001b[38;5;28;01melse\u001b[39;00m:\n",
      "\u001b[1;31mKeyboardInterrupt\u001b[0m: "
     ]
    }
   ],
   "source": [
    "best_individuals = []\n",
    "fitness_values = []\n",
    "\n",
    "for i in range(1,2):\n",
    "    print(f\"Ejecución {i}\")\n",
    "    print(\"Politica: eps_greedy con 0.1. CrossoverAlpha. Mutate gaussiano 2\")\n",
    "    rangMutacion = (-0.5, 0.5)\n",
    "    createRang = (-5, 5)\n",
    "\n",
    "    pop = create(createRang, arquitecture=[8,6,4]) \n",
    "\n",
    "    pop, fitness, f_max, f_min, f_mean = evolve_gen(pop, rangMutacion, pmut=0.1, arquitecture=[8,6,4], generations=400, T=8, trace=50, pcross=0.7, elitism=False, N_games=3)\n",
    "\n",
    "    best_individual = pop[0]  \n",
    "    fitness_value = fitness[0]\n",
    "\n",
    "    # Almacenar resultados\n",
    "    best_individuals.append(best_individual)\n",
    "    fitness_values.append(fitness_value)"
   ]
  },
  {
   "cell_type": "code",
   "execution_count": 88,
   "metadata": {},
   "outputs": [
    {
     "name": "stdout",
     "output_type": "stream",
     "text": [
      "Ejecución 1\n",
      "Politica: eps_greedy con 0.1. CrossoverAlpha. Mutate triple\n",
      "--- Creacion de poblacion: Individuos = 100, Rango = (-5, 5)\n",
      "Parámetros: pmut = 0.1, Rango de Mutacion = (-1, 1), arquitecture = [8, 6, 4], generations = 400, T = 8, pcross = 0.7, elitism = False, N_games = 3, n_elitism = 0\n",
      "Generacion: 50, Mejor fitness: 0.02952045459085184\n",
      "Generacion: 100, Mejor fitness: -15.326143635847123\n",
      "Generacion: 150, Mejor fitness: -21.081548063272013\n",
      "Generacion: 200, Mejor fitness: 2.6043902042711458\n",
      "Generacion: 250, Mejor fitness: 7.967132263500162\n",
      "Generacion: 300, Mejor fitness: -1.4893433565615055\n",
      "Generacion: 350, Mejor fitness: 20.337148389514415\n",
      "Generacion: 400, Mejor fitness: 51.098913352936385\n",
      "Generacion: 400, Mejor fitness: 51.098913352936385\n"
     ]
    }
   ],
   "source": [
    "best_individuals = []\n",
    "fitness_values = []\n",
    "\n",
    "for i in range(1,2):\n",
    "    print(f\"Ejecución {i}\")\n",
    "    print(\"Politica: eps_greedy con 0.1. CrossoverAlpha. Mutate triple\")\n",
    "    rangMutacion = (-1, 1)\n",
    "    createRang = (-5, 5)\n",
    "\n",
    "    pop = create(createRang, arquitecture=[8,6,4]) \n",
    "\n",
    "    pop, fitness, f_max, f_min, f_mean = evolve_gen(pop, rangMutacion, pmut=0.1, arquitecture=[8,6,4], generations=400, T=8, trace=50, pcross=0.7, elitism=False, N_games=3)\n",
    "\n",
    "    best_individual = pop[0]  \n",
    "    fitness_value = fitness[0]\n",
    "\n",
    "    # Almacenar resultados\n",
    "    best_individuals.append(best_individual)\n",
    "    fitness_values.append(fitness_value)"
   ]
  },
  {
   "cell_type": "code",
   "execution_count": 100,
   "metadata": {},
   "outputs": [
    {
     "name": "stdout",
     "output_type": "stream",
     "text": [
      "Ejecución 1\n",
      "Politica: eps_greedy con 0.1. CrossoverAlpha. Mutate triple\n",
      "--- Creacion de poblacion: Individuos = 100, Rango = (-5, 5)\n",
      "Parámetros: pmut = 0.1, Rango de Mutacion = (-1, 1), arquitecture = [8, 6, 4], generations = 400, T = 8, pcross = 0.7, elitism = True, N_games = 3, n_elitism = 5\n",
      "Generacion: 50, Mejor fitness: 123.10252267870032\n",
      "Generacion: 100, Mejor fitness: 180.4221240925223\n",
      "Generacion: 150, Mejor fitness: 256.6404650616178\n"
     ]
    },
    {
     "ename": "KeyboardInterrupt",
     "evalue": "",
     "output_type": "error",
     "traceback": [
      "\u001b[1;31m---------------------------------------------------------------------------\u001b[0m",
      "\u001b[1;31mKeyboardInterrupt\u001b[0m                         Traceback (most recent call last)",
      "Cell \u001b[1;32mIn[100], line 12\u001b[0m\n\u001b[0;32m      8\u001b[0m createRang \u001b[38;5;241m=\u001b[39m (\u001b[38;5;241m-\u001b[39m\u001b[38;5;241m5\u001b[39m, \u001b[38;5;241m5\u001b[39m)\n\u001b[0;32m     10\u001b[0m pop \u001b[38;5;241m=\u001b[39m create(createRang, arquitecture\u001b[38;5;241m=\u001b[39m[\u001b[38;5;241m8\u001b[39m,\u001b[38;5;241m6\u001b[39m,\u001b[38;5;241m4\u001b[39m]) \n\u001b[1;32m---> 12\u001b[0m pop, fitness, f_max, f_min, f_mean \u001b[38;5;241m=\u001b[39m evolve_gen(pop, rangMutacion, pmut\u001b[38;5;241m=\u001b[39m\u001b[38;5;241m0.1\u001b[39m, arquitecture\u001b[38;5;241m=\u001b[39m[\u001b[38;5;241m8\u001b[39m,\u001b[38;5;241m6\u001b[39m,\u001b[38;5;241m4\u001b[39m], generations\u001b[38;5;241m=\u001b[39m\u001b[38;5;241m400\u001b[39m, T\u001b[38;5;241m=\u001b[39m\u001b[38;5;241m8\u001b[39m, trace\u001b[38;5;241m=\u001b[39m\u001b[38;5;241m50\u001b[39m, pcross\u001b[38;5;241m=\u001b[39m\u001b[38;5;241m0.7\u001b[39m, elitism\u001b[38;5;241m=\u001b[39m\u001b[38;5;28;01mTrue\u001b[39;00m, N_games\u001b[38;5;241m=\u001b[39m\u001b[38;5;241m3\u001b[39m, n_elitism\u001b[38;5;241m=\u001b[39m\u001b[38;5;241m5\u001b[39m)\n\u001b[0;32m     14\u001b[0m best_individual \u001b[38;5;241m=\u001b[39m pop[\u001b[38;5;241m0\u001b[39m]  \n\u001b[0;32m     15\u001b[0m fitness_value \u001b[38;5;241m=\u001b[39m fitness[\u001b[38;5;241m0\u001b[39m]\n",
      "Cell \u001b[1;32mIn[99], line 52\u001b[0m, in \u001b[0;36mevolve_gen\u001b[1;34m(pop, rangMut, pmut, arquitecture, generations, T, trace, pcross, elitism, N_games, n_elitism)\u001b[0m\n\u001b[0;32m     49\u001b[0m \u001b[38;5;28;01mwhile\u001b[39;00m generation \u001b[38;5;241m<\u001b[39m generations:\n\u001b[0;32m     50\u001b[0m     new_poblacion \u001b[38;5;241m=\u001b[39m []\n\u001b[1;32m---> 52\u001b[0m     fitness_array \u001b[38;5;241m=\u001b[39m \u001b[38;5;28mlist\u001b[39m(executor\u001b[38;5;241m.\u001b[39mmap(run_multiple_games, pop, itertools\u001b[38;5;241m.\u001b[39mrepeat(arquitecture), itertools\u001b[38;5;241m.\u001b[39mrepeat(N_games)))\n\u001b[0;32m     53\u001b[0m     generation \u001b[38;5;241m+\u001b[39m\u001b[38;5;241m=\u001b[39m \u001b[38;5;241m1\u001b[39m\n\u001b[0;32m     55\u001b[0m     pop, fitness \u001b[38;5;241m=\u001b[39m sort_pop(pop, fitness_array)\n",
      "File \u001b[1;32mc:\\Users\\34627\\anaconda3\\Lib\\site-packages\\loky\\process_executor.py:967\u001b[0m, in \u001b[0;36m_chain_from_iterable_of_lists\u001b[1;34m(iterable)\u001b[0m\n\u001b[0;32m    961\u001b[0m \u001b[38;5;28;01mdef\u001b[39;00m \u001b[38;5;21m_chain_from_iterable_of_lists\u001b[39m(iterable):\n\u001b[0;32m    962\u001b[0m \u001b[38;5;250m    \u001b[39m\u001b[38;5;124;03m\"\"\"\u001b[39;00m\n\u001b[0;32m    963\u001b[0m \u001b[38;5;124;03m    Specialized implementation of itertools.chain.from_iterable.\u001b[39;00m\n\u001b[0;32m    964\u001b[0m \u001b[38;5;124;03m    Each item in *iterable* should be a list.  This function is\u001b[39;00m\n\u001b[0;32m    965\u001b[0m \u001b[38;5;124;03m    careful not to keep references to yielded objects.\u001b[39;00m\n\u001b[0;32m    966\u001b[0m \u001b[38;5;124;03m    \"\"\"\u001b[39;00m\n\u001b[1;32m--> 967\u001b[0m     \u001b[38;5;28;01mfor\u001b[39;00m element \u001b[38;5;129;01min\u001b[39;00m iterable:\n\u001b[0;32m    968\u001b[0m         element\u001b[38;5;241m.\u001b[39mreverse()\n\u001b[0;32m    969\u001b[0m         \u001b[38;5;28;01mwhile\u001b[39;00m element:\n",
      "File \u001b[1;32mc:\\Users\\34627\\anaconda3\\Lib\\concurrent\\futures\\_base.py:619\u001b[0m, in \u001b[0;36mExecutor.map.<locals>.result_iterator\u001b[1;34m()\u001b[0m\n\u001b[0;32m    616\u001b[0m \u001b[38;5;28;01mwhile\u001b[39;00m fs:\n\u001b[0;32m    617\u001b[0m     \u001b[38;5;66;03m# Careful not to keep a reference to the popped future\u001b[39;00m\n\u001b[0;32m    618\u001b[0m     \u001b[38;5;28;01mif\u001b[39;00m timeout \u001b[38;5;129;01mis\u001b[39;00m \u001b[38;5;28;01mNone\u001b[39;00m:\n\u001b[1;32m--> 619\u001b[0m         \u001b[38;5;28;01myield\u001b[39;00m _result_or_cancel(fs\u001b[38;5;241m.\u001b[39mpop())\n\u001b[0;32m    620\u001b[0m     \u001b[38;5;28;01melse\u001b[39;00m:\n\u001b[0;32m    621\u001b[0m         \u001b[38;5;28;01myield\u001b[39;00m _result_or_cancel(fs\u001b[38;5;241m.\u001b[39mpop(), end_time \u001b[38;5;241m-\u001b[39m time\u001b[38;5;241m.\u001b[39mmonotonic())\n",
      "File \u001b[1;32mc:\\Users\\34627\\anaconda3\\Lib\\concurrent\\futures\\_base.py:317\u001b[0m, in \u001b[0;36m_result_or_cancel\u001b[1;34m(***failed resolving arguments***)\u001b[0m\n\u001b[0;32m    315\u001b[0m \u001b[38;5;28;01mtry\u001b[39;00m:\n\u001b[0;32m    316\u001b[0m     \u001b[38;5;28;01mtry\u001b[39;00m:\n\u001b[1;32m--> 317\u001b[0m         \u001b[38;5;28;01mreturn\u001b[39;00m fut\u001b[38;5;241m.\u001b[39mresult(timeout)\n\u001b[0;32m    318\u001b[0m     \u001b[38;5;28;01mfinally\u001b[39;00m:\n\u001b[0;32m    319\u001b[0m         fut\u001b[38;5;241m.\u001b[39mcancel()\n",
      "File \u001b[1;32mc:\\Users\\34627\\anaconda3\\Lib\\concurrent\\futures\\_base.py:451\u001b[0m, in \u001b[0;36mFuture.result\u001b[1;34m(self, timeout)\u001b[0m\n\u001b[0;32m    448\u001b[0m \u001b[38;5;28;01melif\u001b[39;00m \u001b[38;5;28mself\u001b[39m\u001b[38;5;241m.\u001b[39m_state \u001b[38;5;241m==\u001b[39m FINISHED:\n\u001b[0;32m    449\u001b[0m     \u001b[38;5;28;01mreturn\u001b[39;00m \u001b[38;5;28mself\u001b[39m\u001b[38;5;241m.\u001b[39m__get_result()\n\u001b[1;32m--> 451\u001b[0m \u001b[38;5;28mself\u001b[39m\u001b[38;5;241m.\u001b[39m_condition\u001b[38;5;241m.\u001b[39mwait(timeout)\n\u001b[0;32m    453\u001b[0m \u001b[38;5;28;01mif\u001b[39;00m \u001b[38;5;28mself\u001b[39m\u001b[38;5;241m.\u001b[39m_state \u001b[38;5;129;01min\u001b[39;00m [CANCELLED, CANCELLED_AND_NOTIFIED]:\n\u001b[0;32m    454\u001b[0m     \u001b[38;5;28;01mraise\u001b[39;00m CancelledError()\n",
      "File \u001b[1;32mc:\\Users\\34627\\anaconda3\\Lib\\threading.py:355\u001b[0m, in \u001b[0;36mCondition.wait\u001b[1;34m(self, timeout)\u001b[0m\n\u001b[0;32m    353\u001b[0m \u001b[38;5;28;01mtry\u001b[39;00m:    \u001b[38;5;66;03m# restore state no matter what (e.g., KeyboardInterrupt)\u001b[39;00m\n\u001b[0;32m    354\u001b[0m     \u001b[38;5;28;01mif\u001b[39;00m timeout \u001b[38;5;129;01mis\u001b[39;00m \u001b[38;5;28;01mNone\u001b[39;00m:\n\u001b[1;32m--> 355\u001b[0m         waiter\u001b[38;5;241m.\u001b[39macquire()\n\u001b[0;32m    356\u001b[0m         gotit \u001b[38;5;241m=\u001b[39m \u001b[38;5;28;01mTrue\u001b[39;00m\n\u001b[0;32m    357\u001b[0m     \u001b[38;5;28;01melse\u001b[39;00m:\n",
      "\u001b[1;31mKeyboardInterrupt\u001b[0m: "
     ]
    }
   ],
   "source": [
    "best_individuals = []\n",
    "fitness_values = []\n",
    "\n",
    "for i in range(1,2):\n",
    "    print(f\"Ejecución {i}\")\n",
    "    print(\"Politica: eps_greedy con 0.1. CrossoverAlpha. Mutate triple\")\n",
    "    rangMutacion = (-1, 1)\n",
    "    createRang = (-5, 5)\n",
    "\n",
    "    pop = create(createRang, arquitecture=[8,6,4]) \n",
    "\n",
    "    pop, fitness, f_max, f_min, f_mean = evolve_gen(pop, rangMutacion, pmut=0.1, arquitecture=[8,6,4], generations=400, T=8, trace=50, pcross=0.7, elitism=True, N_games=3, n_elitism=5)\n",
    "\n",
    "    best_individual = pop[0]  \n",
    "    fitness_value = fitness[0]\n",
    "\n",
    "    # Almacenar resultados\n",
    "    best_individuals.append(best_individual)\n",
    "    fitness_values.append(fitness_value)"
   ]
  },
  {
   "cell_type": "code",
   "execution_count": null,
   "metadata": {},
   "outputs": [],
   "source": []
  },
  {
   "cell_type": "code",
   "execution_count": null,
   "metadata": {},
   "outputs": [],
   "source": []
  },
  {
   "cell_type": "markdown",
   "metadata": {},
   "source": [
    "### **Plot**"
   ]
  },
  {
   "cell_type": "code",
   "execution_count": 33,
   "metadata": {},
   "outputs": [
    {
     "data": {
      "image/png": "[encoded data removed]",
      "text/plain": [
       "<Figure size 800x400 with 1 Axes>"
      ]
     },
     "metadata": {},
     "output_type": "display_data"
    }
   ],
   "source": [
    "# Celda de Código de grafica para los fitness (min, max, mean)\n",
    "import matplotlib.pyplot as plt\n",
    "\n",
    "%matplotlib inline\n",
    "\n",
    "generations = list(range(0,400))\n",
    "plt.figure(figsize=(8,4))\n",
    "\n",
    "plt.plot(list(generations), list(f_min), label='Min Fit', color='red', linestyle='-')\n",
    "plt.plot(list(generations), list(f_max), label='Max Fit', color='blue', linestyle='-')\n",
    "plt.plot(list(generations), list(f_mean), label='Mean Fit', color='orange', linestyle='-')\n",
    "\n",
    "plt.xlabel('Generaciones')\n",
    "plt.ylabel('Aptitud')\n",
    "plt.title('Evolución de Fitness por Generación')\n",
    "\n",
    "plt.legend()\n",
    "\n",
    "plt.grid(True)\n",
    "plt.show()\n"
   ]
  },
  {
   "cell_type": "code",
   "execution_count": null,
   "metadata": {},
   "outputs": [],
   "source": []
  },
  {
   "cell_type": "markdown",
   "metadata": {},
   "source": [
    "---"
   ]
  },
  {
   "cell_type": "code",
   "execution_count": null,
   "metadata": {},
   "outputs": [],
   "source": [
    "import time\n",
    "\n",
    "def run_lunar_lander(model, chromosome):\n",
    "\n",
    "    env = gym.make(\"LunarLander-v3\", render_mode=\"human\")  \n",
    "    observation, _ = env.reset() \n",
    "    model.from_chromosome(chromosome)  \n",
    "    \n",
    "    total_reward = 0\n",
    "    done = False\n",
    "\n",
    "    while not done:\n",
    "        env.render()  \n",
    "        \n",
    "        action_values = model.forward(observation)  \n",
    "        action = np.argmax(action_values)  \n",
    "        \n",
    "        observation, reward, done, _, _ = env.step(action)  \n",
    "        total_reward += reward\n",
    "        \n",
    "        time.sleep(0.05)  \n",
    "    \n",
    "    env.close()\n",
    "    print(f\"Total reward: {total_reward}\")\n",
    "\n",
    "arquitecture = [8, 6, 4] \n",
    "model = MLP(arquitecture)\n",
    "\n",
    "\n",
    "# 🔹 Ejecutar el modelo en el entorno\n",
    "run_lunar_lander(model, best_individuals[0])\n"
   ]
  }
 ],
 "metadata": {
  "kernelspec": {
   "display_name": "base",
   "language": "python",
   "name": "python3"
  },
  "language_info": {
   "codemirror_mode": {
    "name": "ipython",
    "version": 3
   },
   "file_extension": ".py",
   "mimetype": "text/x-python",
   "name": "python",
   "nbconvert_exporter": "python",
   "pygments_lexer": "ipython3",
   "version": "3.12.3"
  }
 },
 "nbformat": 4,
 "nbformat_minor": 4
}
